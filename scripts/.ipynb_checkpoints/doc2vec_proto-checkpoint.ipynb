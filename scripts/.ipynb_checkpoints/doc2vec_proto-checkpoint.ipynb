{
 "cells": [
  {
   "cell_type": "code",
   "execution_count": 226,
   "metadata": {
    "collapsed": false
   },
   "outputs": [],
   "source": [
    "from gensim.models import Word2Vec, Doc2Vec\n",
    "from gensim.models.doc2vec import LabeledSentence\n",
    "import numpy as np"
   ]
  },
  {
   "cell_type": "code",
   "execution_count": 227,
   "metadata": {
    "collapsed": false
   },
   "outputs": [],
   "source": [
    "# using sentences as documents\n",
    "\n",
    "two_sents=[\"This is a sentence\",\"This is another sentence\"]\n",
    "sentences=[sent.strip().split(\" \") for sent in two_sents ]\n",
    "# print sentences ##=> [['This', 'is', 'a', 'sentence'], ['This', 'is', 'another', 'sentence']]"
   ]
  },
  {
   "cell_type": "code",
   "execution_count": 253,
   "metadata": {
    "collapsed": false
   },
   "outputs": [],
   "source": [
    "# documents = LabeledSentence(words=[u'some', u'words', u'here'], labels=[u'SENT_1'])\n",
    "\n",
    "labeled_sents = []\n",
    "for num, sent_as_words in enumerate(documents):\n",
    "    labeled_sents += [LabeledSentence(sent_as_words, [\"SENT_\" + str(num+1)])] #need to pass in labels as an array"
   ]
  },
  {
   "cell_type": "code",
   "execution_count": 254,
   "metadata": {
    "collapsed": false
   },
   "outputs": [
    {
     "data": {
      "text/plain": [
       "[TaggedDocument(words=['This', 'is', 'a', 'sentence'], tags=['SENT_1']),\n",
       " TaggedDocument(words=['This', 'is', 'another', 'sentence'], tags=['SENT_2'])]"
      ]
     },
     "execution_count": 254,
     "metadata": {},
     "output_type": "execute_result"
    }
   ],
   "source": [
    "labeled_sents"
   ]
  },
  {
   "cell_type": "code",
   "execution_count": 255,
   "metadata": {
    "collapsed": false
   },
   "outputs": [],
   "source": [
    "d2v = Doc2Vec(labeled_sents, size=200, min_count=1, workers=4)"
   ]
  },
  {
   "cell_type": "code",
   "execution_count": 274,
   "metadata": {
    "collapsed": false
   },
   "outputs": [],
   "source": [
    "d2v.build_vocab(labeled_sents)"
   ]
  },
  {
   "cell_type": "code",
   "execution_count": 275,
   "metadata": {
    "collapsed": false
   },
   "outputs": [
    {
     "data": {
      "text/plain": [
       "10"
      ]
     },
     "execution_count": 275,
     "metadata": {},
     "output_type": "execute_result"
    }
   ],
   "source": [
    "d2v.train(labeled_sents) "
   ]
  },
  {
   "cell_type": "code",
   "execution_count": 260,
   "metadata": {
    "collapsed": false
   },
   "outputs": [
    {
     "data": {
      "text/plain": [
       "{'SENT_1': Doctag(index=0, word_count=8, doc_count=2),\n",
       " 'SENT_2': Doctag(index=1, word_count=8, doc_count=2)}"
      ]
     },
     "execution_count": 260,
     "metadata": {},
     "output_type": "execute_result"
    }
   ],
   "source": [
    "d2v.docvecs.doctags"
   ]
  },
  {
   "cell_type": "code",
   "execution_count": 261,
   "metadata": {
    "collapsed": true
   },
   "outputs": [],
   "source": [
    "for epoch in range(20):\n",
    "    model.train(labeled_sents)\n",
    "    model.alpha -= 0.001\n",
    "    model.min_alpha = model.alpha"
   ]
  },
  {
   "cell_type": "code",
   "execution_count": 262,
   "metadata": {
    "collapsed": false
   },
   "outputs": [
    {
     "data": {
      "text/plain": [
       "-0.029029059589738806"
      ]
     },
     "execution_count": 262,
     "metadata": {},
     "output_type": "execute_result"
    }
   ],
   "source": [
    "d2v.n_similarity(['This', 'is'], ['a', 'sentence']) #=> order of the two sentences don't matter"
   ]
  },
  {
   "cell_type": "code",
   "execution_count": 263,
   "metadata": {
    "collapsed": false
   },
   "outputs": [
    {
     "data": {
      "text/plain": [
       "-0.029029059589738806"
      ]
     },
     "execution_count": 263,
     "metadata": {},
     "output_type": "execute_result"
    }
   ],
   "source": [
    "d2v.n_similarity(['a', 'sentence'], ['This', 'is']) #=> order of the two sentences don't matter"
   ]
  },
  {
   "cell_type": "code",
   "execution_count": 266,
   "metadata": {
    "collapsed": false
   },
   "outputs": [
    {
     "data": {
      "text/plain": [
       "[('SENT_2', -0.049140606075525284)]"
      ]
     },
     "execution_count": 266,
     "metadata": {},
     "output_type": "execute_result"
    }
   ],
   "source": [
    "d2v.docvecs.most_similar(\"SENT_1\")"
   ]
  },
  {
   "cell_type": "code",
   "execution_count": 273,
   "metadata": {
    "collapsed": false
   },
   "outputs": [
    {
     "data": {
      "text/plain": [
       "-0.04914060733516766"
      ]
     },
     "execution_count": 273,
     "metadata": {},
     "output_type": "execute_result"
    }
   ],
   "source": [
    "d2v.docvecs.n_similarity([\"SENT_1\"], [\"SENT_2\"])"
   ]
  },
  {
   "cell_type": "code",
   "execution_count": 239,
   "metadata": {
    "collapsed": false
   },
   "outputs": [
    {
     "data": {
      "text/plain": [
       "{'This': <gensim.models.word2vec.Vocab at 0x118317050>,\n",
       " 'a': <gensim.models.word2vec.Vocab at 0x1183170d0>,\n",
       " 'another': <gensim.models.word2vec.Vocab at 0x10c1a3910>,\n",
       " 'is': <gensim.models.word2vec.Vocab at 0x1151a2710>,\n",
       " 'sentence': <gensim.models.word2vec.Vocab at 0x117723890>}"
      ]
     },
     "execution_count": 239,
     "metadata": {},
     "output_type": "execute_result"
    }
   ],
   "source": [
    "d2v.vocab"
   ]
  },
  {
   "cell_type": "markdown",
   "metadata": {},
   "source": [
    "**References**\n",
    "\n",
    "+ [How to Get Document Vectors](http://stackoverflow.com/questions/31321209/doc2vec-how-to-get-document-vectors)\n",
    "+ [Summarizing w/ Gensim](http://rare-technologies.com/text-summarization-with-gensim/)\n",
    "+ [Official Doc2Vec Tutorial](http://rare-technologies.com/doc2vec-tutorial/ )"
   ]
  },
  {
   "cell_type": "markdown",
   "metadata": {},
   "source": [
    "## Parsing Each Case Into Sentence Lists"
   ]
  },
  {
   "cell_type": "code",
   "execution_count": null,
   "metadata": {
    "collapsed": true
   },
   "outputs": [],
   "source": [
    "import pandas as pd\n",
    "import nltk.data"
   ]
  },
  {
   "cell_type": "code",
   "execution_count": null,
   "metadata": {
    "collapsed": false
   },
   "outputs": [],
   "source": [
    "justia = pd.read_csv('data/2000_justia.csv', delimiter='|')"
   ]
  },
  {
   "cell_type": "code",
   "execution_count": null,
   "metadata": {
    "collapsed": false
   },
   "outputs": [],
   "source": [
    "first = justia.ix[0,:]['opinions']"
   ]
  },
  {
   "cell_type": "code",
   "execution_count": null,
   "metadata": {
    "collapsed": false
   },
   "outputs": [],
   "source": [
    "paras = first.split('\\n')"
   ]
  },
  {
   "cell_type": "code",
   "execution_count": null,
   "metadata": {
    "collapsed": false
   },
   "outputs": [],
   "source": [
    "sents = first.split('  ')"
   ]
  },
  {
   "cell_type": "code",
   "execution_count": null,
   "metadata": {
    "collapsed": false
   },
   "outputs": [],
   "source": [
    "len(sents)"
   ]
  },
  {
   "cell_type": "code",
   "execution_count": null,
   "metadata": {
    "collapsed": false
   },
   "outputs": [],
   "source": [
    "tokenizer = nltk.data.load('tokenizers/punkt/english.pickle')\n",
    "token_sents = '\\n**\\n'.join(tokenizer.tokenize(first)) #=> looks ok"
   ]
  },
  {
   "cell_type": "code",
   "execution_count": null,
   "metadata": {
    "collapsed": false
   },
   "outputs": [],
   "source": [
    "sents_as_strs = token_sents.split('\\n**\\n')"
   ]
  },
  {
   "cell_type": "code",
   "execution_count": null,
   "metadata": {
    "collapsed": false
   },
   "outputs": [],
   "source": [
    "def from_iterable(iterables):\n",
    "    # chain.from_iterable(['ABC', 'DEF']) --> A B C D E F\n",
    "    for it in iterables:\n",
    "        it = it.split('\\n')\n",
    "        for element in it:\n",
    "            yield element"
   ]
  },
  {
   "cell_type": "code",
   "execution_count": null,
   "metadata": {
    "collapsed": false
   },
   "outputs": [],
   "source": [
    "# sents_as_strs = [flatten(sent.split('\\n')) for sent in sents_as_strs]\n",
    "sents_generator = from_iterable(sents_as_strs)"
   ]
  },
  {
   "cell_type": "code",
   "execution_count": null,
   "metadata": {
    "collapsed": false
   },
   "outputs": [],
   "source": [
    "sent_list = [sent.split(' ') for sent in sents_generator]"
   ]
  },
  {
   "cell_type": "code",
   "execution_count": null,
   "metadata": {
    "collapsed": true
   },
   "outputs": [],
   "source": [
    "def labeled_sentences(documents):\n",
    "    labeled_sents = []\n",
    "    \n",
    "    for num, sent_as_words in enumerate(documents):\n",
    "        labeled_sents += [LabeledSentence(sent_as_words, (\"SENT_\" + str(num+1)))]\n",
    "    \n",
    "    return labeled_sents"
   ]
  },
  {
   "cell_type": "code",
   "execution_count": null,
   "metadata": {
    "collapsed": false
   },
   "outputs": [],
   "source": [
    "labeled_case = labeled_sentences(sent_list)"
   ]
  },
  {
   "cell_type": "code",
   "execution_count": null,
   "metadata": {
    "collapsed": false
   },
   "outputs": [],
   "source": [
    "'''\n",
    "size: no. dimensions; dimensions being a word that made it to the vocab list\n",
    "min_count: no. of time a word needs to show up to make it to the vocab list\n",
    "'''\n",
    "\n",
    "proto_d2v = Doc2Vec(labeled_case, size=100, min_count=2, workers=4)"
   ]
  },
  {
   "cell_type": "code",
   "execution_count": null,
   "metadata": {
    "collapsed": false
   },
   "outputs": [],
   "source": [
    "proto_d2v.build_vocab(labeled_case)"
   ]
  },
  {
   "cell_type": "code",
   "execution_count": null,
   "metadata": {
    "collapsed": false
   },
   "outputs": [],
   "source": [
    "# proto_d2v.docvecs.most_similar([ proto_d2v['vote'] ])\n",
    "proto_d2v.docvecs.most_similar([proto_d2v['election']]) #=> doesn't work??"
   ]
  },
  {
   "cell_type": "code",
   "execution_count": null,
   "metadata": {
    "collapsed": false
   },
   "outputs": [],
   "source": [
    "# proto_d2v.vocab #=> see vocabulary that made it based on min_count model initialization param\n",
    "\n",
    "# proto_d2v.most_similar(['within', 'value', 'vote'])"
   ]
  },
  {
   "cell_type": "code",
   "execution_count": null,
   "metadata": {
    "collapsed": false
   },
   "outputs": [],
   "source": [
    "# proto_d2v['vote'] #see each word's vector"
   ]
  },
  {
   "cell_type": "code",
   "execution_count": null,
   "metadata": {
    "collapsed": false
   },
   "outputs": [],
   "source": [
    "np.array(proto_d2v.docvecs).shape"
   ]
  },
  {
   "cell_type": "code",
   "execution_count": null,
   "metadata": {
    "collapsed": false
   },
   "outputs": [],
   "source": [
    "len(proto_d2v.vocab)"
   ]
  },
  {
   "cell_type": "code",
   "execution_count": null,
   "metadata": {
    "collapsed": false
   },
   "outputs": [],
   "source": [
    "len(sents_as_strs)"
   ]
  },
  {
   "cell_type": "markdown",
   "metadata": {},
   "source": [
    "    d2v_model.most_similar('longevity') \n",
    "\n",
    "...an equivalent call (still just looking among words) is...\n",
    "\n",
    "    d2v_model.most_similar( [ d2v_model['longevity'] ] )  # currently must be a list, assumed 'positive' examples\n",
    "\n",
    "This points the way to using a word-vector to find similar doc-vectors:\n",
    "\n",
    "    d2v_model.docvecs.most_similar( [ d2v_model['longevity'] ] )\n",
    "\n",
    "...or using a doc-vector to find similar word-vectors:\n",
    "\n",
    "    d2v_model.most_similar( [ d2v_model.docvecs['DNA repair'] ] ) "
   ]
  },
  {
   "cell_type": "markdown",
   "metadata": {},
   "source": [
    "**References**\n",
    "https://groups.google.com/forum/#!topic/gensim/Fujja7aOH6E"
   ]
  },
  {
   "cell_type": "code",
   "execution_count": 276,
   "metadata": {
    "collapsed": false
   },
   "outputs": [
    {
     "data": {
      "text/plain": [
       "<gensim.models.doc2vec.DocvecsArray at 0x118317750>"
      ]
     },
     "execution_count": 276,
     "metadata": {},
     "output_type": "execute_result"
    }
   ],
   "source": [
    "proto_d2v.docvecs"
   ]
  },
  {
   "cell_type": "markdown",
   "metadata": {
    "collapsed": true
   },
   "source": []
  },
  {
   "cell_type": "code",
   "execution_count": null,
   "metadata": {
    "collapsed": true
   },
   "outputs": [],
   "source": []
  }
 ],
 "metadata": {
  "kernelspec": {
   "display_name": "Python 2",
   "language": "python",
   "name": "python2"
  },
  "language_info": {
   "codemirror_mode": {
    "name": "ipython",
    "version": 2
   },
   "file_extension": ".py",
   "mimetype": "text/x-python",
   "name": "python",
   "nbconvert_exporter": "python",
   "pygments_lexer": "ipython2",
   "version": "2.7.11"
  }
 },
 "nbformat": 4,
 "nbformat_minor": 0
}
