{
 "cells": [
  {
   "cell_type": "markdown",
   "metadata": {},
   "source": [
    "## Parsing Each Case Into D2V Document Vectors"
   ]
  },
  {
   "cell_type": "code",
   "execution_count": 1,
   "metadata": {
    "collapsed": false
   },
   "outputs": [],
   "source": [
    "from __future__ import absolute_import\n",
    "import pandas as pd\n",
    "import numpy as np\n",
    "from gensim.models import Word2Vec, Doc2Vec \n",
    "from sklearn.cluster import KMeans\n",
    "from case_to_sent_vecs import case_to_sents, case_to_sentvecs, case_spreadsheet"
   ]
  },
  {
   "cell_type": "code",
   "execution_count": 3,
   "metadata": {
    "collapsed": false
   },
   "outputs": [],
   "source": [
    "justia = pd.read_csv('../data/2006_justia.csv', delimiter='|')"
   ]
  },
  {
   "cell_type": "code",
   "execution_count": 4,
   "metadata": {
    "collapsed": false
   },
   "outputs": [],
   "source": [
    "first = justia.ix[1,:]['opinion']"
   ]
  },
  {
   "cell_type": "code",
   "execution_count": 5,
   "metadata": {
    "collapsed": true
   },
   "outputs": [],
   "source": [
    "cases = justia['opinion'].values"
   ]
  },
  {
   "cell_type": "code",
   "execution_count": 6,
   "metadata": {
    "collapsed": true
   },
   "outputs": [],
   "source": [
    "second = justia.ix[1]['opinion']"
   ]
  },
  {
   "cell_type": "code",
   "execution_count": 7,
   "metadata": {
    "collapsed": false
   },
   "outputs": [],
   "source": [
    "second_vecs = case_to_sentvecs(2, second)"
   ]
  },
  {
   "cell_type": "code",
   "execution_count": 8,
   "metadata": {
    "collapsed": false
   },
   "outputs": [
    {
     "data": {
      "text/plain": [
       "34"
      ]
     },
     "execution_count": 8,
     "metadata": {},
     "output_type": "execute_result"
    }
   ],
   "source": [
    "len(second_vecs)"
   ]
  },
  {
   "cell_type": "code",
   "execution_count": 9,
   "metadata": {
    "collapsed": false
   },
   "outputs": [],
   "source": [
    "d2v = Doc2Vec(second_vecs, size=100, min_count=2, workers=4)"
   ]
  },
  {
   "cell_type": "code",
   "execution_count": 10,
   "metadata": {
    "collapsed": false
   },
   "outputs": [
    {
     "data": {
      "text/plain": [
       "34"
      ]
     },
     "execution_count": 10,
     "metadata": {},
     "output_type": "execute_result"
    }
   ],
   "source": [
    "len(d2v.docvecs)"
   ]
  },
  {
   "cell_type": "code",
   "execution_count": 10,
   "metadata": {
    "collapsed": false
   },
   "outputs": [],
   "source": [
    "# d2v.docvecs.doctags"
   ]
  },
  {
   "cell_type": "code",
   "execution_count": 11,
   "metadata": {
    "collapsed": true
   },
   "outputs": [],
   "source": [
    "kmeans = KMeans(n_clusters=5)"
   ]
  },
  {
   "cell_type": "code",
   "execution_count": 12,
   "metadata": {
    "collapsed": false
   },
   "outputs": [
    {
     "data": {
      "text/plain": [
       "array([[ 0.03207615,  0.03384605,  0.02519341,  0.03106657,  0.03463787],\n",
       "       [ 0.03467862,  0.03361635,  0.03179416,  0.02713468,  0.03198094],\n",
       "       [ 0.03291754,  0.02545016,  0.03322309,  0.03044823,  0.03213906],\n",
       "       [ 0.02560714,  0.03309334,  0.03573685,  0.03145626,  0.03231671],\n",
       "       [ 0.02593792,  0.03220344,  0.03348286,  0.03131158,  0.03407089],\n",
       "       [ 0.03305728,  0.03162681,  0.03299877,  0.02826001,  0.03440023],\n",
       "       [ 0.03326388,  0.03366445,  0.03337776,  0.03026627,  0.02635012],\n",
       "       [ 0.03264394,  0.03088082,  0.02362766,  0.02882922,  0.03149805],\n",
       "       [ 0.03220776,  0.03101006,  0.03279642,  0.02724367,  0.03081924],\n",
       "       [ 0.03251309,  0.0308334 ,  0.03245408,  0.0269494 ,  0.03285665],\n",
       "       [ 0.03185544,  0.03004815,  0.03339615,  0.03005298,  0.02476996],\n",
       "       [ 0.03292324,  0.03411613,  0.03320427,  0.02890088,  0.03257257],\n",
       "       [ 0.03399885,  0.03094548,  0.0224874 ,  0.03060926,  0.03364978],\n",
       "       [ 0.03686702,  0.03393688,  0.02775301,  0.03145806,  0.03500297],\n",
       "       [ 0.03439319,  0.03481194,  0.0305546 ,  0.02719075,  0.03284201],\n",
       "       [ 0.03359106,  0.03000201,  0.03340582,  0.03010248,  0.02672011],\n",
       "       [ 0.03356676,  0.026529  ,  0.0348185 ,  0.03120586,  0.03314646],\n",
       "       [ 0.03385584,  0.02628554,  0.03401232,  0.0323144 ,  0.03225087],\n",
       "       [ 0.03238236,  0.03380745,  0.03423304,  0.03137079,  0.02437263],\n",
       "       [ 0.03100982,  0.03334475,  0.03443532,  0.02891605,  0.0331576 ],\n",
       "       [ 0.03359187,  0.0301088 ,  0.03226041,  0.02726462,  0.03034448],\n",
       "       [ 0.03277793,  0.03339649,  0.02551072,  0.03066533,  0.0322073 ],\n",
       "       [ 0.03218394,  0.03196321,  0.03026611,  0.02398094,  0.03125508],\n",
       "       [ 0.0320537 ,  0.03190164,  0.03165993,  0.02575436,  0.03173965],\n",
       "       [ 0.02352107,  0.03243686,  0.03212272,  0.03001981,  0.03120241],\n",
       "       [ 0.03466685,  0.02571204,  0.03353044,  0.02986055,  0.03449672],\n",
       "       [ 0.02528942,  0.03400669,  0.03441895,  0.03280187,  0.03539945],\n",
       "       [ 0.02482722,  0.03221892,  0.0325109 ,  0.02944999,  0.0317287 ],\n",
       "       [ 0.03315227,  0.03319338,  0.02495099,  0.03032266,  0.03228315],\n",
       "       [ 0.03282134,  0.03438702,  0.03441499,  0.0287654 ,  0.03434752],\n",
       "       [ 0.03401984,  0.03422727,  0.03327444,  0.02823427,  0.03122793],\n",
       "       [ 0.03246114,  0.02555851,  0.03354112,  0.03327851,  0.03088568],\n",
       "       [ 0.03365196,  0.03221364,  0.03190788,  0.02973934,  0.02266907],\n",
       "       [ 0.03175971,  0.02396838,  0.02987354,  0.02986404,  0.03162658]])"
      ]
     },
     "execution_count": 12,
     "metadata": {},
     "output_type": "execute_result"
    }
   ],
   "source": [
    "kmeans.fit_transform(d2v.docvecs)"
   ]
  },
  {
   "cell_type": "code",
   "execution_count": 13,
   "metadata": {
    "collapsed": false
   },
   "outputs": [
    {
     "name": "stdout",
     "output_type": "stream",
     "text": [
      "2\n",
      "3\n",
      "1\n",
      "0\n",
      "0\n",
      "3\n",
      "4\n",
      "2\n",
      "3\n",
      "3\n",
      "4\n",
      "3\n",
      "2\n",
      "2\n",
      "3\n",
      "4\n",
      "1\n",
      "1\n",
      "4\n",
      "3\n",
      "3\n",
      "2\n",
      "3\n",
      "3\n",
      "0\n",
      "1\n",
      "0\n",
      "0\n",
      "2\n",
      "3\n",
      "3\n",
      "1\n",
      "4\n",
      "1\n"
     ]
    }
   ],
   "source": [
    "for i, c in enumerate(kmeans.predict(d2v.docvecs)):\n",
    "#     print str(i+1) + \"::  \"+ str(c)\n",
    "#     print  \n",
    "    print c"
   ]
  },
  {
   "cell_type": "code",
   "execution_count": 30,
   "metadata": {
    "collapsed": false
   },
   "outputs": [],
   "source": [
    "preds = kmeans.predict(d2v.docvecs)"
   ]
  },
  {
   "cell_type": "code",
   "execution_count": 32,
   "metadata": {
    "collapsed": false
   },
   "outputs": [],
   "source": [
    "# for p in preds:\n",
    "#     print p"
   ]
  },
  {
   "cell_type": "code",
   "execution_count": 27,
   "metadata": {
    "collapsed": false
   },
   "outputs": [],
   "source": [
    "# case_spreadsheet(second)"
   ]
  },
  {
   "cell_type": "code",
   "execution_count": null,
   "metadata": {
    "collapsed": true
   },
   "outputs": [],
   "source": []
  },
  {
   "cell_type": "code",
   "execution_count": null,
   "metadata": {
    "collapsed": true
   },
   "outputs": [],
   "source": []
  },
  {
   "cell_type": "markdown",
   "metadata": {},
   "source": [
    "## Notes\n",
    "\n",
    "+ Alchemy API summarize(),  what it's doing: Is it also TextRank? If not\n",
    "+ TextBlob: Is it better than NLTK?\n",
    "    - \n",
    "+ Fintech companies are already summarizing financial reports?\n",
    "\n",
    "+ LDA: Data Graphlab implemented this\n",
    "\n",
    "+ ElasticSearch: Information Retrieval"
   ]
  },
  {
   "cell_type": "code",
   "execution_count": null,
   "metadata": {
    "collapsed": true
   },
   "outputs": [],
   "source": []
  }
 ],
 "metadata": {
  "kernelspec": {
   "display_name": "Python 2",
   "language": "python",
   "name": "python2"
  },
  "language_info": {
   "codemirror_mode": {
    "name": "ipython",
    "version": 2
   },
   "file_extension": ".py",
   "mimetype": "text/x-python",
   "name": "python",
   "nbconvert_exporter": "python",
   "pygments_lexer": "ipython2",
   "version": "2.7.11"
  }
 },
 "nbformat": 4,
 "nbformat_minor": 0
}
