{
 "cells": [
  {
   "cell_type": "code",
   "execution_count": 6,
   "metadata": {
    "collapsed": false
   },
   "outputs": [],
   "source": [
    "from gensim.summarization import summarize\n",
    "from nltk.corpus import brown\n",
    "import nltk\n",
    "from nltk import bigrams, trigrams\n",
    "from textblob.classifiers import NaiveBayesClassifier\n",
    "from textblob import TextBlob\n",
    "import pandas as pd\n",
    "from sklearn.ensemble import RandomForestClassifier\n",
    "from sklearn.cross_validation import train_test_split\n",
    "from textblob.tokenizers import SentenceTokenizer, WordTokenizer\n",
    "import numpy as np\n",
    "from collections import Counter\n",
    "from pos import pos_count\n",
    "from sklearn.svm import SVC, LinearSVC\n",
    "from sklearn.feature_extraction.text import TfidfVectorizer\n",
    "\n",
    "from sklearn.preprocessing import normalize\n",
    "\n",
    "from pos import pos_count, compare_pos_count\n",
    "from case_to_sent_vecs import case_to_sents\n",
    "# from casedf import case_to_df, cases_to_df\n",
    "import casedf\n",
    "import metrics\n",
    "import textstat\n",
    "\n",
    "from lib.readability_score.calculators.fleschkincaid import FleschKincaid\n",
    "\n",
    "\n",
    "'''\n",
    "syllable_count, flesch_reading_ease, flesch_kincaid_grade, gunning_fog, smog_index, \n",
    "linsear_write_formula, dale_chall_readability_score\n",
    "\n",
    "\n",
    "Flesch Reading Ease\n",
    "* 90-100 : Very Easy \n",
    "* 80-89 : Easy \n",
    "* 70-79 : Fairly Easy \n",
    "* 60-69 : Standard \n",
    "* 50-59 : Fairly Difficult \n",
    "* 30-49 : Difficult \n",
    "* 0-29 : Very Confusing\n",
    "\n",
    "\n",
    "Flesch-Kincaid Grade Formula.\n",
    "For example a score of 9.3 means that a ninth grader would be able to read the document.\n",
    "\n",
    "\n",
    "gunning_fog #The Fog Scale (Gunning FOG Formula)\n",
    "\n",
    "SMOG Index\n",
    "\n",
    "'''\n",
    "\n",
    "\n",
    "from sklearn.cross_validation import KFold, cross_val_score\n",
    "import matplotlib.pyplot as plt\n",
    "\n",
    "import lib.readability_score as read_score\n",
    "import seaborn as sns\n",
    "\n",
    "%matplotlib inline\n",
    "\n",
    "\n",
    "from sklearn.externals import joblib\n",
    "# joblib.dump(clf, 'filename.pkl') \n",
    "\n",
    "#then your colleagues can load it\n",
    "\n",
    "# clf = joblib.load('filename.pk1')"
   ]
  },
  {
   "cell_type": "code",
   "execution_count": 7,
   "metadata": {
    "collapsed": false
   },
   "outputs": [],
   "source": [
    "justia = pd.read_csv('../data/2005_justia.csv', delimiter='|')"
   ]
  },
  {
   "cell_type": "code",
   "execution_count": 8,
   "metadata": {
    "collapsed": false
   },
   "outputs": [
    {
     "data": {
      "text/plain": [
       "<module 'casedf' from 'casedf.pyc'>"
      ]
     },
     "execution_count": 8,
     "metadata": {},
     "output_type": "execute_result"
    }
   ],
   "source": [
    "reload(metrics)\n",
    "reload(casedf)"
   ]
  },
  {
   "cell_type": "code",
   "execution_count": 9,
   "metadata": {
    "collapsed": false
   },
   "outputs": [],
   "source": [
    "df = casedf.cases_to_df(justia['opinion'].values, justia['docket_no'].values)"
   ]
  },
  {
   "cell_type": "code",
   "execution_count": 10,
   "metadata": {
    "collapsed": false
   },
   "outputs": [
    {
     "data": {
      "text/plain": [
       "Index([u'reference', u'text', u'length', u'percent_nouns', u'subjectivity',\n",
       "       u'polarity', u'has_reason', u'has_therefore', u'has_reject',\n",
       "       u'has_applied', u'has_standard', u'has_fact', u'has_argue'],\n",
       "      dtype='object')"
      ]
     },
     "execution_count": 10,
     "metadata": {},
     "output_type": "execute_result"
    }
   ],
   "source": [
    "df.columns"
   ]
  },
  {
   "cell_type": "code",
   "execution_count": 11,
   "metadata": {
    "collapsed": false
   },
   "outputs": [],
   "source": [
    "# tfidf = TfidfVectorizer(stop_words='english', max_features=40)\n",
    "# vecs = tfidf.fit_transform(df['text'].values)\n",
    "# vecs_array = vecs.toarray()\n",
    "# tfidf_vocab = sorted(tfidf.vocabulary_.keys())\n",
    "# vocab_vecs = zip(tfidf_vocab, vecs_array.reshape(40, 4237))"
   ]
  },
  {
   "cell_type": "code",
   "execution_count": null,
   "metadata": {
    "collapsed": false
   },
   "outputs": [],
   "source": []
  },
  {
   "cell_type": "code",
   "execution_count": null,
   "metadata": {
    "collapsed": false
   },
   "outputs": [],
   "source": []
  },
  {
   "cell_type": "code",
   "execution_count": 12,
   "metadata": {
    "collapsed": false
   },
   "outputs": [],
   "source": [
    "# for vocab, vec in vocab_vecs:\n",
    "# #     print vocab, vec.shape()\n",
    "#     df[vocab] = vec"
   ]
  },
  {
   "cell_type": "code",
   "execution_count": 13,
   "metadata": {
    "collapsed": false
   },
   "outputs": [
    {
     "data": {
      "text/plain": [
       "{'has_applied',\n",
       " 'has_argue',\n",
       " 'has_fact',\n",
       " 'has_reason',\n",
       " 'has_reject',\n",
       " 'has_standard',\n",
       " 'has_therefore',\n",
       " 'length',\n",
       " 'percent_nouns',\n",
       " 'polarity',\n",
       " 'reference',\n",
       " 'subjectivity',\n",
       " 'text'}"
      ]
     },
     "execution_count": 13,
     "metadata": {},
     "output_type": "execute_result"
    }
   ],
   "source": [
    "set(df.columns)"
   ]
  },
  {
   "cell_type": "code",
   "execution_count": 14,
   "metadata": {
    "collapsed": false
   },
   "outputs": [
    {
     "data": {
      "text/plain": [
       "Index([u'reference', u'text', u'length', u'percent_nouns', u'subjectivity',\n",
       "       u'polarity', u'has_reason', u'has_therefore', u'has_reject',\n",
       "       u'has_applied', u'has_standard', u'has_fact', u'has_argue'],\n",
       "      dtype='object')"
      ]
     },
     "execution_count": 14,
     "metadata": {},
     "output_type": "execute_result"
    }
   ],
   "source": [
    "df.columns"
   ]
  },
  {
   "cell_type": "code",
   "execution_count": 15,
   "metadata": {
    "collapsed": true
   },
   "outputs": [],
   "source": [
    "# select_cols = [ u'length', u'percent_nouns',  u'subjectivity',\n",
    "#             u'polarity',    u'has_reason', u'has_therefore',    u'has_reject',\n",
    "#          u'has_applied',  u'has_standard',      u'has_fact',     u'has_argue',\n",
    "#                  u'act',        u'action',       u'appeals',          u'case',\n",
    "#                u'cases',    u'certiorari',       u'circuit',         u'claim',\n",
    "#               u'claims',         u'court',        u'courts',           u'did',\n",
    "#             u'district',          u'does',      u'evidence',       u'federal',\n",
    "#                u'filed',       u'general',          u'held',   u'information',\n",
    "#               u'joined',      u'judgment',          u'jury',           u'law',\n",
    "#                u'legal',          u'make',      u'official',       u'opinion',\n",
    "#           u'petitioner',   u'petitioners',            u'pp',   u'respondents',\n",
    "#                 u'rule',          u'site',         u'state',        u'states',\n",
    "#              u'supreme',           u'tax',         u'trial',        u'united']\n",
    "\n",
    "select_cols= [u'length', u'percent_nouns', u'subjectivity',\n",
    "       u'polarity', u'has_reason', u'has_therefore', u'has_reject',\n",
    "       u'has_applied', u'has_standard', u'has_fact', u'has_argue']"
   ]
  },
  {
   "cell_type": "code",
   "execution_count": 16,
   "metadata": {
    "collapsed": false
   },
   "outputs": [],
   "source": [
    "df.to_csv(path_or_buf='../data/2005_justia_df.csv', sep='+')"
   ]
  },
  {
   "cell_type": "code",
   "execution_count": 17,
   "metadata": {
    "collapsed": false
   },
   "outputs": [
    {
     "data": {
      "text/plain": [
       "array(['04-1140', '04-881', '04-631', '04-712', '05-101', '04-373',\n",
       "       '04-698', '03-1238', '04-759', '04-1538', '04-9949', '04-1475',\n",
       "       '04-8384', '03-1500', '03-1693', '04-277', '04-278', '04-480',\n",
       "       '04-514', '03-10198', '03-1566', '04-108', '04-563', '04-6432',\n",
       "       '04-70', '03-1230', '03-1234', '04-169', '04-340', '04-5286',\n",
       "       '04-5462', '03-1237', '03-9659', '04-495', '04-603', '04-637',\n",
       "       '04-6964', '03-1388', '03-1454', '03-1488', '03-9877', '04-368',\n",
       "       '03-1164', '04-163', '04-37', '04-5293', '04-5928', '03-1116',\n",
       "       '03-388', '03-9627', '03-725', '03-750', '03-932', '03-1407',\n",
       "       '03-9685', '03-1160', '03-1696', '03-9046', '02-1672', '03-855',\n",
       "       '03-1039', '03-1423', '03-1601', '03-184', '03-287', '03-9168',\n",
       "       '03-1395', '02-1472', '03-633', '03-636', '03-814', '03-8661',\n",
       "       '03-892', '03-923', '03-9560', '04-394', '03-674', '03-878',\n",
       "       '04-104', '03-1293'], dtype=object)"
      ]
     },
     "execution_count": 17,
     "metadata": {},
     "output_type": "execute_result"
    }
   ],
   "source": [
    "df['reference'].unique()"
   ]
  },
  {
   "cell_type": "code",
   "execution_count": 18,
   "metadata": {
    "collapsed": false
   },
   "outputs": [
    {
     "data": {
      "text/plain": [
       "[u'length',\n",
       " u'percent_nouns',\n",
       " u'subjectivity',\n",
       " u'polarity',\n",
       " u'has_reason',\n",
       " u'has_therefore',\n",
       " u'has_reject',\n",
       " u'has_applied',\n",
       " u'has_standard',\n",
       " u'has_fact',\n",
       " u'has_argue']"
      ]
     },
     "execution_count": 18,
     "metadata": {},
     "output_type": "execute_result"
    }
   ],
   "source": [
    "select_cols"
   ]
  },
  {
   "cell_type": "code",
   "execution_count": 19,
   "metadata": {
    "collapsed": false
   },
   "outputs": [],
   "source": [
    "# for case in df[df['reference'] == ['04-881', '04-631', '04-712', '05-101', '04-373',\n",
    "#        '04-698', '03-1238', '04-759', '04-1538', '04-9949']]:\n",
    "#     print case['text']\n",
    "    \n",
    "case04881 = df[df['reference'] == '04-881']\n",
    "X04881 = case04881[select_cols]\n",
    "y04881= [0, 0, 1, 1, 1, 1, 1, 0, 1, 0, 1, 0, 1, 1, 1, 0, 1, 1, 0, 0, 0, 0, 0, 0, 0, 0, 0]"
   ]
  },
  {
   "cell_type": "code",
   "execution_count": 20,
   "metadata": {
    "collapsed": false
   },
   "outputs": [
    {
     "data": {
      "text/plain": [
       "(27, 11)"
      ]
     },
     "execution_count": 20,
     "metadata": {},
     "output_type": "execute_result"
    }
   ],
   "source": [
    "X04881.shape"
   ]
  },
  {
   "cell_type": "code",
   "execution_count": 21,
   "metadata": {
    "collapsed": false
   },
   "outputs": [
    {
     "data": {
      "text/plain": [
       "27"
      ]
     },
     "execution_count": 21,
     "metadata": {},
     "output_type": "execute_result"
    }
   ],
   "source": [
    "len(y04881)"
   ]
  },
  {
   "cell_type": "code",
   "execution_count": 22,
   "metadata": {
    "collapsed": true
   },
   "outputs": [],
   "source": [
    "case04712 = df[df['reference'] == '04-712']\n",
    "X04712 = case04712[select_cols]\n",
    "y04712 = [0, 0, 0, 1, 1, 0, 0, 1, 1, 1, 1, 0, 0, 0, 1, 1, 0, 1, 0, 0, 1, 1, 1, 1, 1, 1, 1, 1, 1, 1, 0, 1, 1, 1, 0, 0, 1, 1, 1, 1, 1, 1, 1, 1, 1, 1, 1, 0, 0, 0, 0, 0, 0, 0]"
   ]
  },
  {
   "cell_type": "code",
   "execution_count": 23,
   "metadata": {
    "collapsed": false
   },
   "outputs": [
    {
     "data": {
      "text/html": [
       "<div>\n",
       "<table border=\"1\" class=\"dataframe\">\n",
       "  <thead>\n",
       "    <tr style=\"text-align: right;\">\n",
       "      <th></th>\n",
       "      <th>reference</th>\n",
       "      <th>text</th>\n",
       "      <th>length</th>\n",
       "      <th>percent_nouns</th>\n",
       "      <th>subjectivity</th>\n",
       "      <th>polarity</th>\n",
       "      <th>has_reason</th>\n",
       "      <th>has_therefore</th>\n",
       "      <th>has_reject</th>\n",
       "      <th>has_applied</th>\n",
       "      <th>has_standard</th>\n",
       "      <th>has_fact</th>\n",
       "      <th>has_argue</th>\n",
       "    </tr>\n",
       "  </thead>\n",
       "  <tbody>\n",
       "    <tr>\n",
       "      <th>139</th>\n",
       "      <td>04-712</td>\n",
       "      <td>LINCOLN PROPERTY CO. etal.</td>\n",
       "      <td>4</td>\n",
       "      <td>0.250000</td>\n",
       "      <td>0.000000</td>\n",
       "      <td>0.000000</td>\n",
       "      <td>0</td>\n",
       "      <td>0</td>\n",
       "      <td>0</td>\n",
       "      <td>0</td>\n",
       "      <td>0</td>\n",
       "      <td>0</td>\n",
       "      <td>0</td>\n",
       "    </tr>\n",
       "    <tr>\n",
       "      <th>140</th>\n",
       "      <td>04-712</td>\n",
       "      <td>v. ROCHE et ux.</td>\n",
       "      <td>4</td>\n",
       "      <td>0.250000</td>\n",
       "      <td>0.000000</td>\n",
       "      <td>0.000000</td>\n",
       "      <td>0</td>\n",
       "      <td>0</td>\n",
       "      <td>0</td>\n",
       "      <td>0</td>\n",
       "      <td>0</td>\n",
       "      <td>0</td>\n",
       "      <td>0</td>\n",
       "    </tr>\n",
       "    <tr>\n",
       "      <th>141</th>\n",
       "      <td>04-712</td>\n",
       "      <td>certiorari to the united states court of appea...</td>\n",
       "      <td>13</td>\n",
       "      <td>0.076923</td>\n",
       "      <td>0.000000</td>\n",
       "      <td>0.000000</td>\n",
       "      <td>0</td>\n",
       "      <td>0</td>\n",
       "      <td>0</td>\n",
       "      <td>0</td>\n",
       "      <td>0</td>\n",
       "      <td>0</td>\n",
       "      <td>0</td>\n",
       "    </tr>\n",
       "    <tr>\n",
       "      <th>142</th>\n",
       "      <td>04-712</td>\n",
       "      <td>04712.Argued October 11, 2005Decided November ...</td>\n",
       "      <td>39</td>\n",
       "      <td>0.230769</td>\n",
       "      <td>0.425000</td>\n",
       "      <td>0.237500</td>\n",
       "      <td>0</td>\n",
       "      <td>0</td>\n",
       "      <td>0</td>\n",
       "      <td>0</td>\n",
       "      <td>0</td>\n",
       "      <td>0</td>\n",
       "      <td>0</td>\n",
       "    </tr>\n",
       "    <tr>\n",
       "      <th>143</th>\n",
       "      <td>04-712</td>\n",
       "      <td>When federal-court jurisdiction is predicated ...</td>\n",
       "      <td>42</td>\n",
       "      <td>0.071429</td>\n",
       "      <td>0.400000</td>\n",
       "      <td>0.033333</td>\n",
       "      <td>0</td>\n",
       "      <td>0</td>\n",
       "      <td>0</td>\n",
       "      <td>0</td>\n",
       "      <td>0</td>\n",
       "      <td>0</td>\n",
       "      <td>0</td>\n",
       "    </tr>\n",
       "    <tr>\n",
       "      <th>144</th>\n",
       "      <td>04-712</td>\n",
       "      <td>1441(b).</td>\n",
       "      <td>1</td>\n",
       "      <td>0.000000</td>\n",
       "      <td>0.000000</td>\n",
       "      <td>0.000000</td>\n",
       "      <td>0</td>\n",
       "      <td>0</td>\n",
       "      <td>0</td>\n",
       "      <td>0</td>\n",
       "      <td>0</td>\n",
       "      <td>0</td>\n",
       "      <td>0</td>\n",
       "    </tr>\n",
       "    <tr>\n",
       "      <th>145</th>\n",
       "      <td>04-712</td>\n",
       "      <td>Christophe and Juanita Roche, plaintiffs below...</td>\n",
       "      <td>23</td>\n",
       "      <td>0.304348</td>\n",
       "      <td>0.400000</td>\n",
       "      <td>-0.300000</td>\n",
       "      <td>0</td>\n",
       "      <td>0</td>\n",
       "      <td>0</td>\n",
       "      <td>0</td>\n",
       "      <td>0</td>\n",
       "      <td>0</td>\n",
       "      <td>0</td>\n",
       "    </tr>\n",
       "    <tr>\n",
       "      <th>146</th>\n",
       "      <td>04-712</td>\n",
       "      <td>The Roches commenced suit in state court again...</td>\n",
       "      <td>49</td>\n",
       "      <td>0.204082</td>\n",
       "      <td>0.273333</td>\n",
       "      <td>-0.106667</td>\n",
       "      <td>0</td>\n",
       "      <td>0</td>\n",
       "      <td>0</td>\n",
       "      <td>0</td>\n",
       "      <td>0</td>\n",
       "      <td>0</td>\n",
       "      <td>0</td>\n",
       "    </tr>\n",
       "    <tr>\n",
       "      <th>147</th>\n",
       "      <td>04-712</td>\n",
       "      <td>The Roches identified themselves as Virginia c...</td>\n",
       "      <td>14</td>\n",
       "      <td>0.285714</td>\n",
       "      <td>0.000000</td>\n",
       "      <td>0.000000</td>\n",
       "      <td>0</td>\n",
       "      <td>0</td>\n",
       "      <td>0</td>\n",
       "      <td>0</td>\n",
       "      <td>0</td>\n",
       "      <td>0</td>\n",
       "      <td>0</td>\n",
       "    </tr>\n",
       "    <tr>\n",
       "      <th>148</th>\n",
       "      <td>04-712</td>\n",
       "      <td>Defendants removed the litigation to a Federal...</td>\n",
       "      <td>14</td>\n",
       "      <td>0.214286</td>\n",
       "      <td>0.000000</td>\n",
       "      <td>0.000000</td>\n",
       "      <td>0</td>\n",
       "      <td>0</td>\n",
       "      <td>0</td>\n",
       "      <td>0</td>\n",
       "      <td>0</td>\n",
       "      <td>0</td>\n",
       "      <td>0</td>\n",
       "    </tr>\n",
       "    <tr>\n",
       "      <th>149</th>\n",
       "      <td>04-712</td>\n",
       "      <td>In their consolidated federal-court complaint,...</td>\n",
       "      <td>19</td>\n",
       "      <td>0.210526</td>\n",
       "      <td>0.200000</td>\n",
       "      <td>-0.300000</td>\n",
       "      <td>0</td>\n",
       "      <td>0</td>\n",
       "      <td>0</td>\n",
       "      <td>0</td>\n",
       "      <td>0</td>\n",
       "      <td>0</td>\n",
       "      <td>0</td>\n",
       "    </tr>\n",
       "    <tr>\n",
       "      <th>150</th>\n",
       "      <td>04-712</td>\n",
       "      <td>Lincoln, in its answer, admitted that it manag...</td>\n",
       "      <td>29</td>\n",
       "      <td>0.068966</td>\n",
       "      <td>0.462500</td>\n",
       "      <td>0.037500</td>\n",
       "      <td>0</td>\n",
       "      <td>0</td>\n",
       "      <td>0</td>\n",
       "      <td>0</td>\n",
       "      <td>0</td>\n",
       "      <td>0</td>\n",
       "      <td>0</td>\n",
       "    </tr>\n",
       "    <tr>\n",
       "      <th>151</th>\n",
       "      <td>04-712</td>\n",
       "      <td>After discovery, the District Court granted de...</td>\n",
       "      <td>26</td>\n",
       "      <td>0.192308</td>\n",
       "      <td>0.000000</td>\n",
       "      <td>0.000000</td>\n",
       "      <td>0</td>\n",
       "      <td>0</td>\n",
       "      <td>0</td>\n",
       "      <td>0</td>\n",
       "      <td>0</td>\n",
       "      <td>0</td>\n",
       "      <td>0</td>\n",
       "    </tr>\n",
       "    <tr>\n",
       "      <th>152</th>\n",
       "      <td>04-712</td>\n",
       "      <td>The District Court denied the motion, but the ...</td>\n",
       "      <td>37</td>\n",
       "      <td>0.135135</td>\n",
       "      <td>0.200000</td>\n",
       "      <td>-0.100000</td>\n",
       "      <td>0</td>\n",
       "      <td>0</td>\n",
       "      <td>0</td>\n",
       "      <td>0</td>\n",
       "      <td>0</td>\n",
       "      <td>0</td>\n",
       "      <td>0</td>\n",
       "    </tr>\n",
       "    <tr>\n",
       "      <th>153</th>\n",
       "      <td>04-712</td>\n",
       "      <td>Held:Defendants may remove an action on the ba...</td>\n",
       "      <td>35</td>\n",
       "      <td>0.085714</td>\n",
       "      <td>0.250000</td>\n",
       "      <td>0.100000</td>\n",
       "      <td>0</td>\n",
       "      <td>0</td>\n",
       "      <td>0</td>\n",
       "      <td>0</td>\n",
       "      <td>0</td>\n",
       "      <td>0</td>\n",
       "      <td>0</td>\n",
       "    </tr>\n",
       "    <tr>\n",
       "      <th>154</th>\n",
       "      <td>04-712</td>\n",
       "      <td>It is not incumbent on the named defendants to...</td>\n",
       "      <td>24</td>\n",
       "      <td>0.041667</td>\n",
       "      <td>0.366667</td>\n",
       "      <td>-0.033333</td>\n",
       "      <td>0</td>\n",
       "      <td>0</td>\n",
       "      <td>0</td>\n",
       "      <td>0</td>\n",
       "      <td>0</td>\n",
       "      <td>0</td>\n",
       "      <td>0</td>\n",
       "    </tr>\n",
       "    <tr>\n",
       "      <th>155</th>\n",
       "      <td>04-712</td>\n",
       "      <td>Pp.613.</td>\n",
       "      <td>1</td>\n",
       "      <td>1.000000</td>\n",
       "      <td>0.000000</td>\n",
       "      <td>0.000000</td>\n",
       "      <td>0</td>\n",
       "      <td>0</td>\n",
       "      <td>0</td>\n",
       "      <td>0</td>\n",
       "      <td>0</td>\n",
       "      <td>0</td>\n",
       "      <td>0</td>\n",
       "    </tr>\n",
       "    <tr>\n",
       "      <th>156</th>\n",
       "      <td>04-712</td>\n",
       "      <td>(a)The Fourth Circuit correctly identified Lin...</td>\n",
       "      <td>47</td>\n",
       "      <td>0.106383</td>\n",
       "      <td>0.118750</td>\n",
       "      <td>-0.006250</td>\n",
       "      <td>0</td>\n",
       "      <td>0</td>\n",
       "      <td>0</td>\n",
       "      <td>0</td>\n",
       "      <td>0</td>\n",
       "      <td>0</td>\n",
       "      <td>0</td>\n",
       "    </tr>\n",
       "    <tr>\n",
       "      <th>157</th>\n",
       "      <td>04-712</td>\n",
       "      <td>This Court stresses, first, that the existence...</td>\n",
       "      <td>23</td>\n",
       "      <td>0.173913</td>\n",
       "      <td>0.355952</td>\n",
       "      <td>-0.007738</td>\n",
       "      <td>0</td>\n",
       "      <td>0</td>\n",
       "      <td>0</td>\n",
       "      <td>0</td>\n",
       "      <td>0</td>\n",
       "      <td>0</td>\n",
       "      <td>0</td>\n",
       "    </tr>\n",
       "    <tr>\n",
       "      <th>158</th>\n",
       "      <td>04-712</td>\n",
       "      <td>The Court turns next to the reasons why the Fo...</td>\n",
       "      <td>24</td>\n",
       "      <td>0.083333</td>\n",
       "      <td>0.000000</td>\n",
       "      <td>0.000000</td>\n",
       "      <td>1</td>\n",
       "      <td>0</td>\n",
       "      <td>0</td>\n",
       "      <td>0</td>\n",
       "      <td>0</td>\n",
       "      <td>0</td>\n",
       "      <td>0</td>\n",
       "    </tr>\n",
       "    <tr>\n",
       "      <th>159</th>\n",
       "      <td>04-712</td>\n",
       "      <td>Since Strawbridge v. Curtiss, 3 Cranch 267, th...</td>\n",
       "      <td>33</td>\n",
       "      <td>0.181818</td>\n",
       "      <td>0.500000</td>\n",
       "      <td>0.050000</td>\n",
       "      <td>0</td>\n",
       "      <td>0</td>\n",
       "      <td>0</td>\n",
       "      <td>0</td>\n",
       "      <td>0</td>\n",
       "      <td>0</td>\n",
       "      <td>0</td>\n",
       "    </tr>\n",
       "    <tr>\n",
       "      <th>160</th>\n",
       "      <td>04-712</td>\n",
       "      <td>While 1332 allows plaintiffs to invoke diversi...</td>\n",
       "      <td>14</td>\n",
       "      <td>0.142857</td>\n",
       "      <td>0.000000</td>\n",
       "      <td>0.000000</td>\n",
       "      <td>0</td>\n",
       "      <td>0</td>\n",
       "      <td>0</td>\n",
       "      <td>0</td>\n",
       "      <td>0</td>\n",
       "      <td>0</td>\n",
       "      <td>0</td>\n",
       "    </tr>\n",
       "    <tr>\n",
       "      <th>161</th>\n",
       "      <td>04-712</td>\n",
       "      <td>The scales are not evenly balanced, however.</td>\n",
       "      <td>7</td>\n",
       "      <td>0.000000</td>\n",
       "      <td>0.000000</td>\n",
       "      <td>0.000000</td>\n",
       "      <td>0</td>\n",
       "      <td>0</td>\n",
       "      <td>0</td>\n",
       "      <td>0</td>\n",
       "      <td>0</td>\n",
       "      <td>0</td>\n",
       "      <td>0</td>\n",
       "    </tr>\n",
       "    <tr>\n",
       "      <th>162</th>\n",
       "      <td>04-712</td>\n",
       "      <td>An in-state plaintiff may invoke diversity jur...</td>\n",
       "      <td>40</td>\n",
       "      <td>0.125000</td>\n",
       "      <td>0.100000</td>\n",
       "      <td>0.050000</td>\n",
       "      <td>0</td>\n",
       "      <td>0</td>\n",
       "      <td>0</td>\n",
       "      <td>0</td>\n",
       "      <td>0</td>\n",
       "      <td>0</td>\n",
       "      <td>0</td>\n",
       "    </tr>\n",
       "    <tr>\n",
       "      <th>163</th>\n",
       "      <td>04-712</td>\n",
       "      <td>In this case, Virginia plaintiffs joined and s...</td>\n",
       "      <td>14</td>\n",
       "      <td>0.214286</td>\n",
       "      <td>0.000000</td>\n",
       "      <td>0.000000</td>\n",
       "      <td>0</td>\n",
       "      <td>0</td>\n",
       "      <td>0</td>\n",
       "      <td>0</td>\n",
       "      <td>0</td>\n",
       "      <td>0</td>\n",
       "      <td>0</td>\n",
       "    </tr>\n",
       "    <tr>\n",
       "      <th>164</th>\n",
       "      <td>04-712</td>\n",
       "      <td>Hence, the action qualified for the removal de...</td>\n",
       "      <td>9</td>\n",
       "      <td>0.222222</td>\n",
       "      <td>0.100000</td>\n",
       "      <td>0.100000</td>\n",
       "      <td>0</td>\n",
       "      <td>0</td>\n",
       "      <td>0</td>\n",
       "      <td>0</td>\n",
       "      <td>0</td>\n",
       "      <td>0</td>\n",
       "      <td>0</td>\n",
       "    </tr>\n",
       "    <tr>\n",
       "      <th>165</th>\n",
       "      <td>04-712</td>\n",
       "      <td>Neither Federal Rule of Civil Procedure 17(a),...</td>\n",
       "      <td>37</td>\n",
       "      <td>0.216216</td>\n",
       "      <td>0.200000</td>\n",
       "      <td>0.150000</td>\n",
       "      <td>0</td>\n",
       "      <td>0</td>\n",
       "      <td>0</td>\n",
       "      <td>0</td>\n",
       "      <td>0</td>\n",
       "      <td>0</td>\n",
       "      <td>0</td>\n",
       "    </tr>\n",
       "    <tr>\n",
       "      <th>166</th>\n",
       "      <td>04-712</td>\n",
       "      <td>Both Rules address party joinder, not federal-...</td>\n",
       "      <td>9</td>\n",
       "      <td>0.222222</td>\n",
       "      <td>0.000000</td>\n",
       "      <td>0.000000</td>\n",
       "      <td>0</td>\n",
       "      <td>0</td>\n",
       "      <td>0</td>\n",
       "      <td>0</td>\n",
       "      <td>0</td>\n",
       "      <td>0</td>\n",
       "      <td>0</td>\n",
       "    </tr>\n",
       "    <tr>\n",
       "      <th>167</th>\n",
       "      <td>04-712</td>\n",
       "      <td>The Fourth Circuit and the Roches draw from th...</td>\n",
       "      <td>29</td>\n",
       "      <td>0.206897</td>\n",
       "      <td>0.150000</td>\n",
       "      <td>0.100000</td>\n",
       "      <td>0</td>\n",
       "      <td>0</td>\n",
       "      <td>0</td>\n",
       "      <td>0</td>\n",
       "      <td>0</td>\n",
       "      <td>0</td>\n",
       "      <td>0</td>\n",
       "    </tr>\n",
       "    <tr>\n",
       "      <th>168</th>\n",
       "      <td>04-712</td>\n",
       "      <td>But the Court is aware of no decision supporti...</td>\n",
       "      <td>36</td>\n",
       "      <td>0.055556</td>\n",
       "      <td>0.242857</td>\n",
       "      <td>0.057143</td>\n",
       "      <td>0</td>\n",
       "      <td>0</td>\n",
       "      <td>0</td>\n",
       "      <td>0</td>\n",
       "      <td>0</td>\n",
       "      <td>0</td>\n",
       "      <td>0</td>\n",
       "    </tr>\n",
       "    <tr>\n",
       "      <th>169</th>\n",
       "      <td>04-712</td>\n",
       "      <td>Pp.69.</td>\n",
       "      <td>1</td>\n",
       "      <td>1.000000</td>\n",
       "      <td>0.000000</td>\n",
       "      <td>0.000000</td>\n",
       "      <td>0</td>\n",
       "      <td>0</td>\n",
       "      <td>0</td>\n",
       "      <td>0</td>\n",
       "      <td>0</td>\n",
       "      <td>0</td>\n",
       "      <td>0</td>\n",
       "    </tr>\n",
       "    <tr>\n",
       "      <th>170</th>\n",
       "      <td>04-712</td>\n",
       "      <td>(b)This Courts decisions employing real party ...</td>\n",
       "      <td>17</td>\n",
       "      <td>0.235294</td>\n",
       "      <td>0.200000</td>\n",
       "      <td>0.150000</td>\n",
       "      <td>0</td>\n",
       "      <td>0</td>\n",
       "      <td>0</td>\n",
       "      <td>0</td>\n",
       "      <td>0</td>\n",
       "      <td>0</td>\n",
       "      <td>0</td>\n",
       "    </tr>\n",
       "    <tr>\n",
       "      <th>171</th>\n",
       "      <td>04-712</td>\n",
       "      <td>No party here has been improperly or collusive...</td>\n",
       "      <td>30</td>\n",
       "      <td>0.166667</td>\n",
       "      <td>0.000000</td>\n",
       "      <td>0.000000</td>\n",
       "      <td>0</td>\n",
       "      <td>0</td>\n",
       "      <td>0</td>\n",
       "      <td>0</td>\n",
       "      <td>0</td>\n",
       "      <td>0</td>\n",
       "      <td>0</td>\n",
       "    </tr>\n",
       "    <tr>\n",
       "      <th>172</th>\n",
       "      <td>04-712</td>\n",
       "      <td>Nor are cases in which actions against a state...</td>\n",
       "      <td>25</td>\n",
       "      <td>0.160000</td>\n",
       "      <td>0.000000</td>\n",
       "      <td>0.000000</td>\n",
       "      <td>0</td>\n",
       "      <td>0</td>\n",
       "      <td>0</td>\n",
       "      <td>0</td>\n",
       "      <td>0</td>\n",
       "      <td>0</td>\n",
       "      <td>0</td>\n",
       "    </tr>\n",
       "    <tr>\n",
       "      <th>173</th>\n",
       "      <td>04-712</td>\n",
       "      <td>v. Utah Constr.</td>\n",
       "      <td>3</td>\n",
       "      <td>0.333333</td>\n",
       "      <td>0.000000</td>\n",
       "      <td>0.000000</td>\n",
       "      <td>0</td>\n",
       "      <td>0</td>\n",
       "      <td>0</td>\n",
       "      <td>0</td>\n",
       "      <td>0</td>\n",
       "      <td>0</td>\n",
       "      <td>0</td>\n",
       "    </tr>\n",
       "    <tr>\n",
       "      <th>174</th>\n",
       "      <td>04-712</td>\n",
       "      <td>Co., 278 U. S. 194, 199200, relevant to suits ...</td>\n",
       "      <td>12</td>\n",
       "      <td>0.166667</td>\n",
       "      <td>0.637500</td>\n",
       "      <td>0.200000</td>\n",
       "      <td>0</td>\n",
       "      <td>0</td>\n",
       "      <td>0</td>\n",
       "      <td>0</td>\n",
       "      <td>0</td>\n",
       "      <td>0</td>\n",
       "      <td>0</td>\n",
       "    </tr>\n",
       "    <tr>\n",
       "      <th>175</th>\n",
       "      <td>04-712</td>\n",
       "      <td>Unlike cases in which a party was named to sat...</td>\n",
       "      <td>17</td>\n",
       "      <td>0.117647</td>\n",
       "      <td>0.000000</td>\n",
       "      <td>0.000000</td>\n",
       "      <td>0</td>\n",
       "      <td>0</td>\n",
       "      <td>0</td>\n",
       "      <td>0</td>\n",
       "      <td>0</td>\n",
       "      <td>0</td>\n",
       "      <td>0</td>\n",
       "    </tr>\n",
       "    <tr>\n",
       "      <th>176</th>\n",
       "      <td>04-712</td>\n",
       "      <td>Leggett, Smith, &amp; Lawrence v. Bland, 2 How.</td>\n",
       "      <td>8</td>\n",
       "      <td>0.500000</td>\n",
       "      <td>0.833333</td>\n",
       "      <td>-0.166667</td>\n",
       "      <td>0</td>\n",
       "      <td>0</td>\n",
       "      <td>0</td>\n",
       "      <td>0</td>\n",
       "      <td>0</td>\n",
       "      <td>0</td>\n",
       "      <td>0</td>\n",
       "    </tr>\n",
       "    <tr>\n",
       "      <th>177</th>\n",
       "      <td>04-712</td>\n",
       "      <td>9, 14, or was joined only as designated perfor...</td>\n",
       "      <td>40</td>\n",
       "      <td>0.150000</td>\n",
       "      <td>1.000000</td>\n",
       "      <td>0.000000</td>\n",
       "      <td>0</td>\n",
       "      <td>0</td>\n",
       "      <td>0</td>\n",
       "      <td>0</td>\n",
       "      <td>0</td>\n",
       "      <td>0</td>\n",
       "      <td>0</td>\n",
       "    </tr>\n",
       "    <tr>\n",
       "      <th>178</th>\n",
       "      <td>04-712</td>\n",
       "      <td>467, 469470, Lincoln has a vital interest in t...</td>\n",
       "      <td>10</td>\n",
       "      <td>0.200000</td>\n",
       "      <td>0.400000</td>\n",
       "      <td>0.100000</td>\n",
       "      <td>0</td>\n",
       "      <td>0</td>\n",
       "      <td>0</td>\n",
       "      <td>0</td>\n",
       "      <td>0</td>\n",
       "      <td>0</td>\n",
       "      <td>0</td>\n",
       "    </tr>\n",
       "    <tr>\n",
       "      <th>179</th>\n",
       "      <td>04-712</td>\n",
       "      <td>Indeed, Lincoln accepted responsibility, in th...</td>\n",
       "      <td>20</td>\n",
       "      <td>0.150000</td>\n",
       "      <td>0.000000</td>\n",
       "      <td>0.000000</td>\n",
       "      <td>0</td>\n",
       "      <td>0</td>\n",
       "      <td>0</td>\n",
       "      <td>0</td>\n",
       "      <td>0</td>\n",
       "      <td>0</td>\n",
       "      <td>0</td>\n",
       "    </tr>\n",
       "    <tr>\n",
       "      <th>180</th>\n",
       "      <td>04-712</td>\n",
       "      <td>In any event, the Fourth Circuit had no warran...</td>\n",
       "      <td>28</td>\n",
       "      <td>0.071429</td>\n",
       "      <td>0.187500</td>\n",
       "      <td>-0.062500</td>\n",
       "      <td>0</td>\n",
       "      <td>0</td>\n",
       "      <td>0</td>\n",
       "      <td>0</td>\n",
       "      <td>0</td>\n",
       "      <td>0</td>\n",
       "      <td>0</td>\n",
       "    </tr>\n",
       "    <tr>\n",
       "      <th>181</th>\n",
       "      <td>04-712</td>\n",
       "      <td>Congress, empowered to prescribe the jurisdict...</td>\n",
       "      <td>25</td>\n",
       "      <td>0.120000</td>\n",
       "      <td>1.000000</td>\n",
       "      <td>0.600000</td>\n",
       "      <td>0</td>\n",
       "      <td>0</td>\n",
       "      <td>0</td>\n",
       "      <td>0</td>\n",
       "      <td>0</td>\n",
       "      <td>0</td>\n",
       "      <td>0</td>\n",
       "    </tr>\n",
       "    <tr>\n",
       "      <th>182</th>\n",
       "      <td>04-712</td>\n",
       "      <td>But Congress has not directed that a corporati...</td>\n",
       "      <td>26</td>\n",
       "      <td>0.076923</td>\n",
       "      <td>0.000000</td>\n",
       "      <td>0.000000</td>\n",
       "      <td>0</td>\n",
       "      <td>0</td>\n",
       "      <td>0</td>\n",
       "      <td>0</td>\n",
       "      <td>0</td>\n",
       "      <td>0</td>\n",
       "      <td>0</td>\n",
       "    </tr>\n",
       "    <tr>\n",
       "      <th>183</th>\n",
       "      <td>04-712</td>\n",
       "      <td>For cases like the Roches, Congress has provid...</td>\n",
       "      <td>43</td>\n",
       "      <td>0.069767</td>\n",
       "      <td>0.678571</td>\n",
       "      <td>0.000000</td>\n",
       "      <td>0</td>\n",
       "      <td>0</td>\n",
       "      <td>0</td>\n",
       "      <td>0</td>\n",
       "      <td>0</td>\n",
       "      <td>0</td>\n",
       "      <td>0</td>\n",
       "    </tr>\n",
       "    <tr>\n",
       "      <th>184</th>\n",
       "      <td>04-712</td>\n",
       "      <td>The jurisdictional rule governing here is unam...</td>\n",
       "      <td>13</td>\n",
       "      <td>0.153846</td>\n",
       "      <td>0.600000</td>\n",
       "      <td>-0.100000</td>\n",
       "      <td>0</td>\n",
       "      <td>0</td>\n",
       "      <td>0</td>\n",
       "      <td>0</td>\n",
       "      <td>0</td>\n",
       "      <td>0</td>\n",
       "      <td>0</td>\n",
       "    </tr>\n",
       "    <tr>\n",
       "      <th>185</th>\n",
       "      <td>04-712</td>\n",
       "      <td>Under 1332(c)(1), Lincoln is a citizen of Texa...</td>\n",
       "      <td>19</td>\n",
       "      <td>0.105263</td>\n",
       "      <td>0.100000</td>\n",
       "      <td>0.000000</td>\n",
       "      <td>0</td>\n",
       "      <td>0</td>\n",
       "      <td>0</td>\n",
       "      <td>0</td>\n",
       "      <td>0</td>\n",
       "      <td>0</td>\n",
       "      <td>0</td>\n",
       "    </tr>\n",
       "    <tr>\n",
       "      <th>186</th>\n",
       "      <td>04-712</td>\n",
       "      <td>Pp.913.</td>\n",
       "      <td>1</td>\n",
       "      <td>1.000000</td>\n",
       "      <td>0.000000</td>\n",
       "      <td>0.000000</td>\n",
       "      <td>0</td>\n",
       "      <td>0</td>\n",
       "      <td>0</td>\n",
       "      <td>0</td>\n",
       "      <td>0</td>\n",
       "      <td>0</td>\n",
       "      <td>0</td>\n",
       "    </tr>\n",
       "    <tr>\n",
       "      <th>187</th>\n",
       "      <td>04-712</td>\n",
       "      <td>373 F.3d 610, reversed and remanded.</td>\n",
       "      <td>6</td>\n",
       "      <td>0.166667</td>\n",
       "      <td>0.000000</td>\n",
       "      <td>0.000000</td>\n",
       "      <td>0</td>\n",
       "      <td>0</td>\n",
       "      <td>0</td>\n",
       "      <td>0</td>\n",
       "      <td>0</td>\n",
       "      <td>0</td>\n",
       "      <td>0</td>\n",
       "    </tr>\n",
       "    <tr>\n",
       "      <th>188</th>\n",
       "      <td>04-712</td>\n",
       "      <td>Ginsburg, J., delivered the opinion for a unan...</td>\n",
       "      <td>9</td>\n",
       "      <td>0.333333</td>\n",
       "      <td>0.000000</td>\n",
       "      <td>0.000000</td>\n",
       "      <td>0</td>\n",
       "      <td>0</td>\n",
       "      <td>0</td>\n",
       "      <td>0</td>\n",
       "      <td>0</td>\n",
       "      <td>0</td>\n",
       "      <td>0</td>\n",
       "    </tr>\n",
       "    <tr>\n",
       "      <th>189</th>\n",
       "      <td>04-712</td>\n",
       "      <td>Disclaimer: Official Supreme Court case law is...</td>\n",
       "      <td>18</td>\n",
       "      <td>0.166667</td>\n",
       "      <td>1.000000</td>\n",
       "      <td>0.000000</td>\n",
       "      <td>0</td>\n",
       "      <td>0</td>\n",
       "      <td>0</td>\n",
       "      <td>0</td>\n",
       "      <td>0</td>\n",
       "      <td>0</td>\n",
       "      <td>0</td>\n",
       "    </tr>\n",
       "    <tr>\n",
       "      <th>190</th>\n",
       "      <td>04-712</td>\n",
       "      <td>Justia case law is provided for general inform...</td>\n",
       "      <td>20</td>\n",
       "      <td>0.200000</td>\n",
       "      <td>0.525000</td>\n",
       "      <td>0.062500</td>\n",
       "      <td>0</td>\n",
       "      <td>0</td>\n",
       "      <td>0</td>\n",
       "      <td>0</td>\n",
       "      <td>0</td>\n",
       "      <td>0</td>\n",
       "      <td>0</td>\n",
       "    </tr>\n",
       "    <tr>\n",
       "      <th>191</th>\n",
       "      <td>04-712</td>\n",
       "      <td>We make no warranties or guarantees about the ...</td>\n",
       "      <td>26</td>\n",
       "      <td>0.000000</td>\n",
       "      <td>0.000000</td>\n",
       "      <td>0.000000</td>\n",
       "      <td>0</td>\n",
       "      <td>0</td>\n",
       "      <td>0</td>\n",
       "      <td>0</td>\n",
       "      <td>0</td>\n",
       "      <td>0</td>\n",
       "      <td>0</td>\n",
       "    </tr>\n",
       "    <tr>\n",
       "      <th>192</th>\n",
       "      <td>04-712</td>\n",
       "      <td>Please check official sources.\\n\\t\\t\\t</td>\n",
       "      <td>4</td>\n",
       "      <td>0.500000</td>\n",
       "      <td>0.000000</td>\n",
       "      <td>0.000000</td>\n",
       "      <td>0</td>\n",
       "      <td>0</td>\n",
       "      <td>0</td>\n",
       "      <td>0</td>\n",
       "      <td>0</td>\n",
       "      <td>0</td>\n",
       "      <td>0</td>\n",
       "    </tr>\n",
       "  </tbody>\n",
       "</table>\n",
       "</div>"
      ],
      "text/plain": [
       "    reference                                               text  length  \\\n",
       "139    04-712                         LINCOLN PROPERTY CO. etal.       4   \n",
       "140    04-712                                    v. ROCHE et ux.       4   \n",
       "141    04-712  certiorari to the united states court of appea...      13   \n",
       "142    04-712  04712.Argued October 11, 2005Decided November ...      39   \n",
       "143    04-712  When federal-court jurisdiction is predicated ...      42   \n",
       "144    04-712                                           1441(b).       1   \n",
       "145    04-712  Christophe and Juanita Roche, plaintiffs below...      23   \n",
       "146    04-712  The Roches commenced suit in state court again...      49   \n",
       "147    04-712  The Roches identified themselves as Virginia c...      14   \n",
       "148    04-712  Defendants removed the litigation to a Federal...      14   \n",
       "149    04-712  In their consolidated federal-court complaint,...      19   \n",
       "150    04-712  Lincoln, in its answer, admitted that it manag...      29   \n",
       "151    04-712  After discovery, the District Court granted de...      26   \n",
       "152    04-712  The District Court denied the motion, but the ...      37   \n",
       "153    04-712  Held:Defendants may remove an action on the ba...      35   \n",
       "154    04-712  It is not incumbent on the named defendants to...      24   \n",
       "155    04-712                                            Pp.613.       1   \n",
       "156    04-712  (a)The Fourth Circuit correctly identified Lin...      47   \n",
       "157    04-712  This Court stresses, first, that the existence...      23   \n",
       "158    04-712  The Court turns next to the reasons why the Fo...      24   \n",
       "159    04-712  Since Strawbridge v. Curtiss, 3 Cranch 267, th...      33   \n",
       "160    04-712  While 1332 allows plaintiffs to invoke diversi...      14   \n",
       "161    04-712       The scales are not evenly balanced, however.       7   \n",
       "162    04-712  An in-state plaintiff may invoke diversity jur...      40   \n",
       "163    04-712  In this case, Virginia plaintiffs joined and s...      14   \n",
       "164    04-712  Hence, the action qualified for the removal de...       9   \n",
       "165    04-712  Neither Federal Rule of Civil Procedure 17(a),...      37   \n",
       "166    04-712  Both Rules address party joinder, not federal-...       9   \n",
       "167    04-712  The Fourth Circuit and the Roches draw from th...      29   \n",
       "168    04-712  But the Court is aware of no decision supporti...      36   \n",
       "169    04-712                                             Pp.69.       1   \n",
       "170    04-712  (b)This Courts decisions employing real party ...      17   \n",
       "171    04-712  No party here has been improperly or collusive...      30   \n",
       "172    04-712  Nor are cases in which actions against a state...      25   \n",
       "173    04-712                                    v. Utah Constr.       3   \n",
       "174    04-712  Co., 278 U. S. 194, 199200, relevant to suits ...      12   \n",
       "175    04-712  Unlike cases in which a party was named to sat...      17   \n",
       "176    04-712        Leggett, Smith, & Lawrence v. Bland, 2 How.       8   \n",
       "177    04-712  9, 14, or was joined only as designated perfor...      40   \n",
       "178    04-712  467, 469470, Lincoln has a vital interest in t...      10   \n",
       "179    04-712  Indeed, Lincoln accepted responsibility, in th...      20   \n",
       "180    04-712  In any event, the Fourth Circuit had no warran...      28   \n",
       "181    04-712  Congress, empowered to prescribe the jurisdict...      25   \n",
       "182    04-712  But Congress has not directed that a corporati...      26   \n",
       "183    04-712  For cases like the Roches, Congress has provid...      43   \n",
       "184    04-712  The jurisdictional rule governing here is unam...      13   \n",
       "185    04-712  Under 1332(c)(1), Lincoln is a citizen of Texa...      19   \n",
       "186    04-712                                            Pp.913.       1   \n",
       "187    04-712               373 F.3d 610, reversed and remanded.       6   \n",
       "188    04-712  Ginsburg, J., delivered the opinion for a unan...       9   \n",
       "189    04-712  Disclaimer: Official Supreme Court case law is...      18   \n",
       "190    04-712  Justia case law is provided for general inform...      20   \n",
       "191    04-712  We make no warranties or guarantees about the ...      26   \n",
       "192    04-712             Please check official sources.\\n\\t\\t\\t       4   \n",
       "\n",
       "     percent_nouns  subjectivity  polarity  has_reason  has_therefore  \\\n",
       "139       0.250000      0.000000  0.000000           0              0   \n",
       "140       0.250000      0.000000  0.000000           0              0   \n",
       "141       0.076923      0.000000  0.000000           0              0   \n",
       "142       0.230769      0.425000  0.237500           0              0   \n",
       "143       0.071429      0.400000  0.033333           0              0   \n",
       "144       0.000000      0.000000  0.000000           0              0   \n",
       "145       0.304348      0.400000 -0.300000           0              0   \n",
       "146       0.204082      0.273333 -0.106667           0              0   \n",
       "147       0.285714      0.000000  0.000000           0              0   \n",
       "148       0.214286      0.000000  0.000000           0              0   \n",
       "149       0.210526      0.200000 -0.300000           0              0   \n",
       "150       0.068966      0.462500  0.037500           0              0   \n",
       "151       0.192308      0.000000  0.000000           0              0   \n",
       "152       0.135135      0.200000 -0.100000           0              0   \n",
       "153       0.085714      0.250000  0.100000           0              0   \n",
       "154       0.041667      0.366667 -0.033333           0              0   \n",
       "155       1.000000      0.000000  0.000000           0              0   \n",
       "156       0.106383      0.118750 -0.006250           0              0   \n",
       "157       0.173913      0.355952 -0.007738           0              0   \n",
       "158       0.083333      0.000000  0.000000           1              0   \n",
       "159       0.181818      0.500000  0.050000           0              0   \n",
       "160       0.142857      0.000000  0.000000           0              0   \n",
       "161       0.000000      0.000000  0.000000           0              0   \n",
       "162       0.125000      0.100000  0.050000           0              0   \n",
       "163       0.214286      0.000000  0.000000           0              0   \n",
       "164       0.222222      0.100000  0.100000           0              0   \n",
       "165       0.216216      0.200000  0.150000           0              0   \n",
       "166       0.222222      0.000000  0.000000           0              0   \n",
       "167       0.206897      0.150000  0.100000           0              0   \n",
       "168       0.055556      0.242857  0.057143           0              0   \n",
       "169       1.000000      0.000000  0.000000           0              0   \n",
       "170       0.235294      0.200000  0.150000           0              0   \n",
       "171       0.166667      0.000000  0.000000           0              0   \n",
       "172       0.160000      0.000000  0.000000           0              0   \n",
       "173       0.333333      0.000000  0.000000           0              0   \n",
       "174       0.166667      0.637500  0.200000           0              0   \n",
       "175       0.117647      0.000000  0.000000           0              0   \n",
       "176       0.500000      0.833333 -0.166667           0              0   \n",
       "177       0.150000      1.000000  0.000000           0              0   \n",
       "178       0.200000      0.400000  0.100000           0              0   \n",
       "179       0.150000      0.000000  0.000000           0              0   \n",
       "180       0.071429      0.187500 -0.062500           0              0   \n",
       "181       0.120000      1.000000  0.600000           0              0   \n",
       "182       0.076923      0.000000  0.000000           0              0   \n",
       "183       0.069767      0.678571  0.000000           0              0   \n",
       "184       0.153846      0.600000 -0.100000           0              0   \n",
       "185       0.105263      0.100000  0.000000           0              0   \n",
       "186       1.000000      0.000000  0.000000           0              0   \n",
       "187       0.166667      0.000000  0.000000           0              0   \n",
       "188       0.333333      0.000000  0.000000           0              0   \n",
       "189       0.166667      1.000000  0.000000           0              0   \n",
       "190       0.200000      0.525000  0.062500           0              0   \n",
       "191       0.000000      0.000000  0.000000           0              0   \n",
       "192       0.500000      0.000000  0.000000           0              0   \n",
       "\n",
       "     has_reject  has_applied  has_standard  has_fact  has_argue  \n",
       "139           0            0             0         0          0  \n",
       "140           0            0             0         0          0  \n",
       "141           0            0             0         0          0  \n",
       "142           0            0             0         0          0  \n",
       "143           0            0             0         0          0  \n",
       "144           0            0             0         0          0  \n",
       "145           0            0             0         0          0  \n",
       "146           0            0             0         0          0  \n",
       "147           0            0             0         0          0  \n",
       "148           0            0             0         0          0  \n",
       "149           0            0             0         0          0  \n",
       "150           0            0             0         0          0  \n",
       "151           0            0             0         0          0  \n",
       "152           0            0             0         0          0  \n",
       "153           0            0             0         0          0  \n",
       "154           0            0             0         0          0  \n",
       "155           0            0             0         0          0  \n",
       "156           0            0             0         0          0  \n",
       "157           0            0             0         0          0  \n",
       "158           0            0             0         0          0  \n",
       "159           0            0             0         0          0  \n",
       "160           0            0             0         0          0  \n",
       "161           0            0             0         0          0  \n",
       "162           0            0             0         0          0  \n",
       "163           0            0             0         0          0  \n",
       "164           0            0             0         0          0  \n",
       "165           0            0             0         0          0  \n",
       "166           0            0             0         0          0  \n",
       "167           0            0             0         0          0  \n",
       "168           0            0             0         0          0  \n",
       "169           0            0             0         0          0  \n",
       "170           0            0             0         0          0  \n",
       "171           0            0             0         0          0  \n",
       "172           0            0             0         0          0  \n",
       "173           0            0             0         0          0  \n",
       "174           0            0             0         0          0  \n",
       "175           0            0             0         0          0  \n",
       "176           0            0             0         0          0  \n",
       "177           0            0             0         0          0  \n",
       "178           0            0             0         0          0  \n",
       "179           0            0             0         0          0  \n",
       "180           0            0             0         0          0  \n",
       "181           0            0             0         0          0  \n",
       "182           0            0             0         0          0  \n",
       "183           0            0             0         0          0  \n",
       "184           0            0             0         0          0  \n",
       "185           0            0             0         0          0  \n",
       "186           0            0             0         0          0  \n",
       "187           0            0             0         0          0  \n",
       "188           0            0             0         0          0  \n",
       "189           0            0             0         0          0  \n",
       "190           0            0             0         0          0  \n",
       "191           0            0             0         0          0  \n",
       "192           0            0             0         0          0  "
      ]
     },
     "execution_count": 23,
     "metadata": {},
     "output_type": "execute_result"
    }
   ],
   "source": [
    "case04712"
   ]
  },
  {
   "cell_type": "code",
   "execution_count": 24,
   "metadata": {
    "collapsed": false
   },
   "outputs": [
    {
     "data": {
      "text/plain": [
       "(54, 11)"
      ]
     },
     "execution_count": 24,
     "metadata": {},
     "output_type": "execute_result"
    }
   ],
   "source": [
    "X04712.shape"
   ]
  },
  {
   "cell_type": "code",
   "execution_count": 25,
   "metadata": {
    "collapsed": false
   },
   "outputs": [
    {
     "data": {
      "text/plain": [
       "54"
      ]
     },
     "execution_count": 25,
     "metadata": {},
     "output_type": "execute_result"
    }
   ],
   "source": [
    "len(y04712)"
   ]
  },
  {
   "cell_type": "code",
   "execution_count": 26,
   "metadata": {
    "collapsed": true
   },
   "outputs": [],
   "source": [
    "case05101 = df[df['reference'] == '05-101']\n",
    "X05101 = case05101[select_cols]\n",
    "y05101 = [0, 1, 0, 0, 0, 0, 0, 0, 0, 0, 1, 1, 0, 0, 1, 1, 1, 1, 0, 0, 0, 1, 0, 1, 0, 0, 0, 0, 1, 0, 1, 0, 1, 1, 1, 1, 0, 0, 0, 1, 1, 0, 0, 1, 0, 1, 1, 0, 0, 0, 1, 0, 0, 1, 1, 1, 1, 0, 0, 1, 0, 1, 1, 0, 1, 0, 1, 0, 0, 1, 0, 0, 0, 0, 1, 0, 0, 0, 0, 1, 0, 1, 0, 0, 0, 0, 0, 0, 0, 0]"
   ]
  },
  {
   "cell_type": "code",
   "execution_count": 27,
   "metadata": {
    "collapsed": false
   },
   "outputs": [
    {
     "data": {
      "text/plain": [
       "(90, 11)"
      ]
     },
     "execution_count": 27,
     "metadata": {},
     "output_type": "execute_result"
    }
   ],
   "source": [
    "X05101.shape"
   ]
  },
  {
   "cell_type": "code",
   "execution_count": 28,
   "metadata": {
    "collapsed": false
   },
   "outputs": [
    {
     "data": {
      "text/plain": [
       "90"
      ]
     },
     "execution_count": 28,
     "metadata": {},
     "output_type": "execute_result"
    }
   ],
   "source": [
    "len(y05101)"
   ]
  },
  {
   "cell_type": "code",
   "execution_count": 29,
   "metadata": {
    "collapsed": false
   },
   "outputs": [],
   "source": [
    "def print_case(case_df):\n",
    "    for i, sent in enumerate(case_df['text']):\n",
    "        print str(i) + \":: \" + sent\n",
    "        print '\\n'"
   ]
  },
  {
   "cell_type": "code",
   "execution_count": 30,
   "metadata": {
    "collapsed": false
   },
   "outputs": [],
   "source": [
    "X = pd.concat([X04881,X04712, X05101])"
   ]
  },
  {
   "cell_type": "code",
   "execution_count": 31,
   "metadata": {
    "collapsed": false
   },
   "outputs": [],
   "source": [
    "X_copy = normalize(X, norm='l2', axis=1, copy=True)"
   ]
  },
  {
   "cell_type": "code",
   "execution_count": 32,
   "metadata": {
    "collapsed": false
   },
   "outputs": [],
   "source": [
    "y = np.array(y04881 + y04712 + y05101)"
   ]
  },
  {
   "cell_type": "code",
   "execution_count": 33,
   "metadata": {
    "collapsed": false
   },
   "outputs": [],
   "source": [
    "# label_key = fun = {\"procedure\": [0, []],  \"issue\": [1, []], \"rule\": [2, []], \"analysis\": [3, [\"reason\", \"reject\", \"therefore\", \"argue\", \"fact\", \"standard\", \"applied\"]], \"holding\": [4, []], \"citation\": [5, []], \"other\": [6, []]}"
   ]
  },
  {
   "cell_type": "code",
   "execution_count": 34,
   "metadata": {
    "collapsed": true
   },
   "outputs": [],
   "source": [
    "rfc = RandomForestClassifier()"
   ]
  },
  {
   "cell_type": "code",
   "execution_count": 35,
   "metadata": {
    "collapsed": false
   },
   "outputs": [
    {
     "data": {
      "text/plain": [
       "(171,)"
      ]
     },
     "execution_count": 35,
     "metadata": {},
     "output_type": "execute_result"
    }
   ],
   "source": [
    "y.shape"
   ]
  },
  {
   "cell_type": "code",
   "execution_count": 36,
   "metadata": {
    "collapsed": false
   },
   "outputs": [
    {
     "data": {
      "text/plain": [
       "(171, 11)"
      ]
     },
     "execution_count": 36,
     "metadata": {},
     "output_type": "execute_result"
    }
   ],
   "source": [
    "X_copy.shape"
   ]
  },
  {
   "cell_type": "code",
   "execution_count": 37,
   "metadata": {
    "collapsed": false
   },
   "outputs": [],
   "source": [
    "X_train, X_test, y_train, y_test = train_test_split(X_copy, y, test_size=0.5, random_state=0)"
   ]
  },
  {
   "cell_type": "code",
   "execution_count": 38,
   "metadata": {
    "collapsed": false
   },
   "outputs": [
    {
     "data": {
      "text/plain": [
       "RandomForestClassifier(bootstrap=True, class_weight=None, criterion='gini',\n",
       "            max_depth=None, max_features='auto', max_leaf_nodes=None,\n",
       "            min_samples_leaf=1, min_samples_split=2,\n",
       "            min_weight_fraction_leaf=0.0, n_estimators=10, n_jobs=1,\n",
       "            oob_score=False, random_state=None, verbose=0,\n",
       "            warm_start=False)"
      ]
     },
     "execution_count": 38,
     "metadata": {},
     "output_type": "execute_result"
    }
   ],
   "source": [
    "rfc.fit(X_train, y_train)"
   ]
  },
  {
   "cell_type": "code",
   "execution_count": 39,
   "metadata": {
    "collapsed": false
   },
   "outputs": [
    {
     "data": {
      "text/plain": [
       "0.65116279069767447"
      ]
     },
     "execution_count": 39,
     "metadata": {},
     "output_type": "execute_result"
    }
   ],
   "source": [
    "rfc.score(X_test, y_test)"
   ]
  },
  {
   "cell_type": "code",
   "execution_count": 40,
   "metadata": {
    "collapsed": false
   },
   "outputs": [
    {
     "data": {
      "text/plain": [
       "array([ 0.54285714,  0.68571429,  0.41176471,  0.58823529,  0.54545455])"
      ]
     },
     "execution_count": 40,
     "metadata": {},
     "output_type": "execute_result"
    }
   ],
   "source": [
    "cross_val_score(rfc, X, y, cv=5, scoring='accuracy')"
   ]
  },
  {
   "cell_type": "code",
   "execution_count": 41,
   "metadata": {
    "collapsed": false
   },
   "outputs": [],
   "source": [
    "preds = rfc.predict(X_test)"
   ]
  },
  {
   "cell_type": "code",
   "execution_count": 42,
   "metadata": {
    "collapsed": false
   },
   "outputs": [],
   "source": [
    "pred_probs = rfc.predict_proba(X_test)\n",
    "pred_probs_boolean = pred_probs[:, 1] > 0.5"
   ]
  },
  {
   "cell_type": "code",
   "execution_count": 43,
   "metadata": {
    "collapsed": false
   },
   "outputs": [
    {
     "data": {
      "text/plain": [
       "0.65116279069767447"
      ]
     },
     "execution_count": 43,
     "metadata": {},
     "output_type": "execute_result"
    }
   ],
   "source": [
    "sum(pred_probs_boolean == np.array(y_test)) / float(len(pred_probs)) #accuracy when choosing different thresholds"
   ]
  },
  {
   "cell_type": "code",
   "execution_count": 44,
   "metadata": {
    "collapsed": false
   },
   "outputs": [
    {
     "name": "stdout",
     "output_type": "stream",
     "text": [
      "True Positive is: 26\n",
      "False Positive is: 16\n",
      "True Negative is: 30\n",
      "False Negative is: 14\n",
      "\n",
      "Predicting + and - correctly\n",
      "Acccuracy: 0.651162790698\n",
      "\n",
      "How much can I count on my + prediction?\n",
      "Precision: 0.619047619048\n",
      "\n",
      "Capturing actual + and avoiding FN\n",
      "Sensitivity / Hit Rate / Recall: 0.65\n",
      "\n",
      "Capturing actual - and avoiding FP\n",
      "Specificity / True Negative Rate: 0.652173913043\n",
      "\n"
     ]
    }
   ],
   "source": [
    "metrics.easy_cf(y_test, preds)\n",
    "# metrics.easy_cf(y_test, preds)"
   ]
  },
  {
   "cell_type": "code",
   "execution_count": 45,
   "metadata": {
    "collapsed": false
   },
   "outputs": [],
   "source": [
    "# joblib.dump(rfc, \"pickles/rfc.pkl\")"
   ]
  },
  {
   "cell_type": "code",
   "execution_count": 55,
   "metadata": {
    "collapsed": false
   },
   "outputs": [],
   "source": [
    "def sns_feat(rfc_model, X_test):\n",
    "    importances = rfc_model.feature_importances_\n",
    "    std = np.std([tree.feature_importances_ for tree in rfc_model.estimators_],\n",
    "                 axis=0)\n",
    "    indices = np.argsort(importances)[::-1]\n",
    "\n",
    "    columns = np.array([   'length', 'percent_nouns',\n",
    "        'subjectivity',      'polarity',    'has_reason', 'has_therefore',\n",
    "          'has_reject',   'has_applied',  'has_standard',      'has_fact',\n",
    "           'has_argue',           'act',        'action',       'appeals',\n",
    "                'case',         'cases',    'certiorari',       'circuit',\n",
    "               'claim',        'claims',         'court',        'courts',\n",
    "                 'did',      'district',          'does',      'evidence',\n",
    "             'federal',         'filed',       'general',          'held',\n",
    "         'information',        'joined',      'judgment',          'jury',\n",
    "                 'law',         'legal',          'make',      'official',\n",
    "             'opinion',    'petitioner',   'petitioners',            'pp',\n",
    "         'respondents',          'rule',          'site',         'state',\n",
    "              'states',       'supreme',           'tax',         'trial',\n",
    "              'united'])\n",
    "\n",
    "    col_importance = columns[indices]\n",
    "\n",
    "\n",
    "    # Print the feature ranking\n",
    "    print(\"Feature ranking:\")\n",
    "\n",
    "    for f in range(X_test.shape[1]):\n",
    "        print(\"%d. feature %d: %s (%f) \" % (f + 1, indices[f], col_importance[f], importances[indices[f]]))\n",
    "\n",
    "    # Plot the feature importances of the forest\n",
    "    plt.figure(num=None, figsize=(20, 6), dpi=80, facecolor='w', edgecolor='k')\n",
    "    plt.title(\"Feature importances\")\n",
    "    plt.bar(range(X_test.shape[1]), importances[indices],\n",
    "           color=\"r\", yerr=std[indices], align=\"center\")\n",
    "    plt.xticks(range(X_test.shape[1]), indices)\n",
    "    plt.xlim([-1, X_test.shape[1]])\n",
    "    plt.show()\n",
    "\n",
    "#     #Plot feature importances of the forest in seaborn\n",
    "#     sns.set_style(\"whitegrid\")\n",
    "# #     sns.rugplot(X_test)\n",
    "#     sns.violinplot([range(X_test.shape[1]), importances[indices]])\n",
    "#     sns.heatmap([range(X_test.shape[1]), importances[indices]], annot=True)\n",
    "# #     sns.clustermap([range(X_test.shape[1]), importances[indices]])\n"
   ]
  },
  {
   "cell_type": "code",
   "execution_count": 56,
   "metadata": {
    "collapsed": false,
    "scrolled": true
   },
   "outputs": [
    {
     "name": "stdout",
     "output_type": "stream",
     "text": [
      "Feature ranking:\n",
      "1. feature 0: length (0.321319) \n",
      "2. feature 1: percent_nouns (0.317839) \n",
      "3. feature 2: subjectivity (0.172194) \n",
      "4. feature 3: polarity (0.136521) \n",
      "5. feature 9: has_fact (0.027690) \n",
      "6. feature 4: has_reason (0.024436) \n",
      "7. feature 10: has_argue (0.000000) \n",
      "8. feature 8: has_standard (0.000000) \n",
      "9. feature 7: has_applied (0.000000) \n",
      "10. feature 6: has_reject (0.000000) \n",
      "11. feature 5: has_therefore (0.000000) \n"
     ]
    },
    {
     "data": {
      "image/png": "[encoded data removed]",
      "text/plain": [
       "<matplotlib.figure.Figure at 0x11c8dae50>"
      ]
     },
     "metadata": {},
     "output_type": "display_data"
    }
   ],
   "source": [
    "sns_feat(rfc, X_test)"
   ]
  },
  {
   "cell_type": "code",
   "execution_count": 48,
   "metadata": {
    "collapsed": false
   },
   "outputs": [
    {
     "name": "stdout",
     "output_type": "stream",
     "text": [
      "Feature ranking:\n",
      "1. feature 0: length (0.321319) \n",
      "2. feature 1: percent_nouns (0.317839) \n",
      "3. feature 2: subjectivity (0.172194) \n",
      "4. feature 3: polarity (0.136521) \n",
      "5. feature 9: has_fact (0.027690) \n",
      "6. feature 4: has_reason (0.024436) \n",
      "7. feature 10: has_argue (0.000000) \n",
      "8. feature 8: has_standard (0.000000) \n",
      "9. feature 7: has_applied (0.000000) \n",
      "10. feature 6: has_reject (0.000000) \n",
      "11. feature 5: has_therefore (0.000000) \n"
     ]
    },
    {
     "data": {
      "image/png": "[encoded data removed]",
      "text/plain": [
       "<matplotlib.figure.Figure at 0x11b97e550>"
      ]
     },
     "metadata": {},
     "output_type": "display_data"
    }
   ],
   "source": [
    "metrics.feat_importance(rfc, X_test)"
   ]
  },
  {
   "cell_type": "code",
   "execution_count": null,
   "metadata": {
    "collapsed": true
   },
   "outputs": [],
   "source": []
  },
  {
   "cell_type": "code",
   "execution_count": null,
   "metadata": {
    "collapsed": true
   },
   "outputs": [],
   "source": []
  },
  {
   "cell_type": "code",
   "execution_count": null,
   "metadata": {
    "collapsed": false
   },
   "outputs": [],
   "source": []
  },
  {
   "cell_type": "code",
   "execution_count": 49,
   "metadata": {
    "collapsed": false
   },
   "outputs": [],
   "source": [
    "lin_svc = LinearSVC()"
   ]
  },
  {
   "cell_type": "code",
   "execution_count": 50,
   "metadata": {
    "collapsed": false
   },
   "outputs": [
    {
     "data": {
      "text/plain": [
       "LinearSVC(C=1.0, class_weight=None, dual=True, fit_intercept=True,\n",
       "     intercept_scaling=1, loss='squared_hinge', max_iter=1000,\n",
       "     multi_class='ovr', penalty='l2', random_state=None, tol=0.0001,\n",
       "     verbose=0)"
      ]
     },
     "execution_count": 50,
     "metadata": {},
     "output_type": "execute_result"
    }
   ],
   "source": [
    "lin_svc.fit(X_train, y_train)"
   ]
  },
  {
   "cell_type": "code",
   "execution_count": 51,
   "metadata": {
    "collapsed": false
   },
   "outputs": [
    {
     "data": {
      "text/plain": [
       "0.53488372093023251"
      ]
     },
     "execution_count": 51,
     "metadata": {},
     "output_type": "execute_result"
    }
   ],
   "source": [
    "lin_svc.score(X_test, y_test)"
   ]
  },
  {
   "cell_type": "code",
   "execution_count": 52,
   "metadata": {
    "collapsed": false
   },
   "outputs": [
    {
     "data": {
      "text/plain": [
       "array([[ 1,  9,  4,  3,  5,  6,  7,  8, 10,  2,  0]])"
      ]
     },
     "execution_count": 52,
     "metadata": {},
     "output_type": "execute_result"
    }
   ],
   "source": [
    "np.argsort(lin_svc.coef_)"
   ]
  },
  {
   "cell_type": "code",
   "execution_count": null,
   "metadata": {
    "collapsed": true
   },
   "outputs": [],
   "source": []
  },
  {
   "cell_type": "code",
   "execution_count": null,
   "metadata": {
    "collapsed": true
   },
   "outputs": [],
   "source": []
  },
  {
   "cell_type": "code",
   "execution_count": null,
   "metadata": {
    "collapsed": true
   },
   "outputs": [],
   "source": []
  },
  {
   "cell_type": "code",
   "execution_count": null,
   "metadata": {
    "collapsed": true
   },
   "outputs": [],
   "source": []
  },
  {
   "cell_type": "code",
   "execution_count": null,
   "metadata": {
    "collapsed": true
   },
   "outputs": [],
   "source": []
  },
  {
   "cell_type": "code",
   "execution_count": 53,
   "metadata": {
    "collapsed": true
   },
   "outputs": [],
   "source": [
    "def roc_curve(probabilities, labels):\n",
    "    '''\n",
    "    INPUT: numpy array, numpy array\n",
    "    OUTPUT: list, list, list\n",
    "    Take a numpy array of the predicted probabilities and a numpy array of the\n",
    "    true labels.\n",
    "    Return the True Positive Rates, False Positive Rates and Thresholds for the\n",
    "    ROC curve.\n",
    "    '''\n",
    "    \n",
    "    thresholds = np.sort(probabilities)\n",
    "\n",
    "    tprs = []\n",
    "    fprs = []\n",
    "\n",
    "    num_positive_cases = sum(labels)\n",
    "    num_negative_cases = len(labels) - num_positive_cases\n",
    "\n",
    "    for threshold in thresholds:\n",
    "        # With this threshold, give the prediction of each instance\n",
    "        predicted_positive = probabilities >= threshold\n",
    "        # Calculate the number of correctly predicted positive cases\n",
    "        true_positives = np.sum(predicted_positive * labels)\n",
    "        # Calculate the number of incorrectly predicted positive cases\n",
    "        false_positives = np.sum(predicted_positive) - true_positives\n",
    "        # Calculate the True Positive Rate\n",
    "        tpr = true_positives / float(num_positive_cases)\n",
    "        # Calculate the False Positive Rate\n",
    "        fpr = false_positives / float(num_negative_cases)\n",
    "\n",
    "        fprs.append(fpr)\n",
    "        tprs.append(tpr)\n",
    "\n",
    "    return tprs, fprs, thresholds.tolist()"
   ]
  },
  {
   "cell_type": "code",
   "execution_count": 54,
   "metadata": {
    "collapsed": false
   },
   "outputs": [
    {
     "ename": "ValueError",
     "evalue": "total size of new array must be unchanged",
     "output_type": "error",
     "traceback": [
      "\u001b[0;31m---------------------------------------------------------------------------\u001b[0m",
      "\u001b[0;31mValueError\u001b[0m                                Traceback (most recent call last)",
      "\u001b[0;32m<ipython-input-54-22af466c092b>\u001b[0m in \u001b[0;36m<module>\u001b[0;34m()\u001b[0m\n\u001b[0;32m----> 1\u001b[0;31m \u001b[0mtpr\u001b[0m\u001b[0;34m,\u001b[0m \u001b[0mfpr\u001b[0m\u001b[0;34m,\u001b[0m \u001b[0mthrs\u001b[0m \u001b[0;34m=\u001b[0m \u001b[0mroc_curve\u001b[0m\u001b[0;34m(\u001b[0m\u001b[0mrfc\u001b[0m\u001b[0;34m.\u001b[0m\u001b[0mpredict_proba\u001b[0m\u001b[0;34m(\u001b[0m\u001b[0mX_test\u001b[0m\u001b[0;34m)\u001b[0m\u001b[0;34m,\u001b[0m \u001b[0my_test\u001b[0m\u001b[0;34m.\u001b[0m\u001b[0mreshape\u001b[0m\u001b[0;34m(\u001b[0m\u001b[0;36m43\u001b[0m\u001b[0;34m,\u001b[0m\u001b[0;36m1\u001b[0m\u001b[0;34m)\u001b[0m\u001b[0;34m)\u001b[0m\u001b[0;34m\u001b[0m\u001b[0m\n\u001b[0m",
      "\u001b[0;31mValueError\u001b[0m: total size of new array must be unchanged"
     ]
    }
   ],
   "source": [
    "tpr, fpr, thrs = roc_curve(rfc.predict_proba(X_test), y_test.reshape(43,1))"
   ]
  },
  {
   "cell_type": "code",
   "execution_count": null,
   "metadata": {
    "collapsed": false
   },
   "outputs": [],
   "source": [
    "plt.plot(fpr, tpr)"
   ]
  },
  {
   "cell_type": "code",
   "execution_count": null,
   "metadata": {
    "collapsed": true
   },
   "outputs": [],
   "source": []
  },
  {
   "cell_type": "code",
   "execution_count": null,
   "metadata": {
    "collapsed": false
   },
   "outputs": [],
   "source": [
    "# from sklearn.cross_validation import KFold\n",
    "# X = np.array([[1, 2], [3, 4], [1, 2], [3, 4]])\n",
    "# y = np.array([1, 2, 3, 4])\n",
    "# kf = KFold(4, n_folds=2)\n",
    "# len(kf)\n",
    "\n",
    "# print(kf)  \n",
    "\n",
    "# KFold(n=4, n_folds=2, shuffle=False, random_state=None)\n",
    "\n",
    "# for train_index, test_index in kf:\n",
    "#     print(\"TRAIN:\", train_index, \"TEST:\", test_index)\n",
    "#     X_train, X_test = X[train_index], X[test_index]\n",
    "#     y_train, y_test = y[train_index], y[test_index]"
   ]
  },
  {
   "cell_type": "code",
   "execution_count": null,
   "metadata": {
    "collapsed": true
   },
   "outputs": [],
   "source": []
  },
  {
   "cell_type": "code",
   "execution_count": null,
   "metadata": {
    "collapsed": true
   },
   "outputs": [],
   "source": []
  },
  {
   "cell_type": "code",
   "execution_count": null,
   "metadata": {
    "collapsed": true
   },
   "outputs": [],
   "source": []
  },
  {
   "cell_type": "code",
   "execution_count": null,
   "metadata": {
    "collapsed": true
   },
   "outputs": [],
   "source": []
  },
  {
   "cell_type": "code",
   "execution_count": null,
   "metadata": {
    "collapsed": true
   },
   "outputs": [],
   "source": []
  },
  {
   "cell_type": "code",
   "execution_count": null,
   "metadata": {
    "collapsed": true
   },
   "outputs": [],
   "source": []
  },
  {
   "cell_type": "code",
   "execution_count": null,
   "metadata": {
    "collapsed": true
   },
   "outputs": [],
   "source": []
  },
  {
   "cell_type": "code",
   "execution_count": null,
   "metadata": {
    "collapsed": true
   },
   "outputs": [],
   "source": []
  },
  {
   "cell_type": "markdown",
   "metadata": {},
   "source": [
    "Create an ROC curve. Look in the upper right quandrant for our threshold.\n",
    "\n",
    "Choose a threshold that predictss more true positives at the expense of false positives. We don't care about having too many false positives before our classifier is acting as a light handed filter. We want to make sure all analysis sentences come through even if it means lots of non-analysis sentences come through.\n",
    "\n",
    "I want the Recall to be high."
   ]
  },
  {
   "cell_type": "code",
   "execution_count": null,
   "metadata": {
    "collapsed": true
   },
   "outputs": [],
   "source": []
  },
  {
   "cell_type": "code",
   "execution_count": null,
   "metadata": {
    "collapsed": true
   },
   "outputs": [],
   "source": []
  },
  {
   "cell_type": "code",
   "execution_count": null,
   "metadata": {
    "collapsed": false
   },
   "outputs": [],
   "source": [
    "case4 = justia.iloc[3,1]"
   ]
  },
  {
   "cell_type": "code",
   "execution_count": null,
   "metadata": {
    "collapsed": false
   },
   "outputs": [],
   "source": [
    "sent_toke = SentenceTokenizer()\n",
    "word_toke = WordTokenizer()"
   ]
  },
  {
   "cell_type": "code",
   "execution_count": null,
   "metadata": {
    "collapsed": false
   },
   "outputs": [],
   "source": [
    "word_toke.tokenize(str(np.array(case4_sents)))"
   ]
  },
  {
   "cell_type": "code",
   "execution_count": null,
   "metadata": {
    "collapsed": false
   },
   "outputs": [],
   "source": [
    "for sent in case4_sents:\n",
    "    print sent_toke.tokenize(str(sent))"
   ]
  },
  {
   "cell_type": "code",
   "execution_count": null,
   "metadata": {
    "collapsed": false
   },
   "outputs": [],
   "source": []
  },
  {
   "cell_type": "code",
   "execution_count": null,
   "metadata": {
    "collapsed": false
   },
   "outputs": [],
   "source": [
    "case4_bigrams = {i:[] for i in xrange(len(case4_sents))}\n",
    "\n",
    "for i, sent in enumerate(case4_sents):\n",
    "    case4_bigrams[i] += bigrams(str(sent).split())"
   ]
  },
  {
   "cell_type": "code",
   "execution_count": null,
   "metadata": {
    "collapsed": false
   },
   "outputs": [],
   "source": [
    "# Counter(case4_bigrams)\n",
    "case4_bigrams"
   ]
  },
  {
   "cell_type": "code",
   "execution_count": null,
   "metadata": {
    "collapsed": false
   },
   "outputs": [],
   "source": [
    "# a_idx = [i for i, truth in enumerate(l4) if truth == 1]"
   ]
  },
  {
   "cell_type": "code",
   "execution_count": null,
   "metadata": {
    "collapsed": false
   },
   "outputs": [],
   "source": [
    "# for i in a_idx:\n",
    "#     print Counter(case4_bigrams[i])\n",
    "#     print '\\n'"
   ]
  },
  {
   "cell_type": "code",
   "execution_count": null,
   "metadata": {
    "collapsed": false
   },
   "outputs": [],
   "source": [
    "# case4_analysis = np.array(case4_sents)[a_idx]\n",
    "\n",
    "# not_a_idx = [x for x in xrange(len(case4_sents)) if x not in a_idx]\n",
    "# case4_other = np.array(case4_sents)[not_a_idx]"
   ]
  },
  {
   "cell_type": "code",
   "execution_count": null,
   "metadata": {
    "collapsed": false
   },
   "outputs": [],
   "source": [
    "a_idx == not_a_idx"
   ]
  },
  {
   "cell_type": "code",
   "execution_count": null,
   "metadata": {
    "collapsed": false
   },
   "outputs": [],
   "source": [
    "case4_other"
   ]
  },
  {
   "cell_type": "code",
   "execution_count": null,
   "metadata": {
    "collapsed": false
   },
   "outputs": [],
   "source": [
    "# def pos_count(sent_class):\n",
    "#     pos = []\n",
    "    \n",
    "#     for sent in sent_class:\n",
    "#         tags = []\n",
    "\n",
    "#         for tagged in sent.tags:\n",
    "#             tags.append(tagged[1])\n",
    "#     #         print tagged[1]\n",
    "#         pos.append(tags)\n",
    "        \n",
    "#     flat_pos = [el for p in pos for el in p]\n",
    "    \n",
    "#     most_common = Counter(flat_pos).most_common()\n",
    "    \n",
    "#     return {key: (float(val) / len(flat_pos)) for key, val in most_common}\n"
   ]
  },
  {
   "cell_type": "code",
   "execution_count": null,
   "metadata": {
    "collapsed": false
   },
   "outputs": [],
   "source": [
    "pos_count(case4_other)"
   ]
  },
  {
   "cell_type": "code",
   "execution_count": null,
   "metadata": {
    "collapsed": false
   },
   "outputs": [],
   "source": [
    "pos_count(case4_analysis)"
   ]
  },
  {
   "cell_type": "code",
   "execution_count": null,
   "metadata": {
    "collapsed": false
   },
   "outputs": [],
   "source": [
    "# compare_pos_count(pos_count(case4_analysis), pos_count(case4_other))"
   ]
  },
  {
   "cell_type": "code",
   "execution_count": null,
   "metadata": {
    "collapsed": false
   },
   "outputs": [],
   "source": [
    "case_soup = BeautifulSoup(open(\"case_test.html\"), 'lxml')"
   ]
  },
  {
   "cell_type": "code",
   "execution_count": null,
   "metadata": {
    "collapsed": false
   },
   "outputs": [],
   "source": [
    "opinion = case_soup.find(id='opinion')"
   ]
  },
  {
   "cell_type": "code",
   "execution_count": null,
   "metadata": {
    "collapsed": false
   },
   "outputs": [],
   "source": [
    "sentences = []\n",
    "\n",
    "# list(opinion.children)\n",
    "\n",
    "for para in opinion.findAll('p'):\n",
    "    para = para.text.encode(\"utf8\")\n",
    "    para = para.decode(\"utf8\")\n",
    "    para = TextBlob(para)\n",
    "    sents = para.sentences\n",
    "    \n",
    "    for sent in sents:\n",
    "        sentences.append(sent.words)"
   ]
  },
  {
   "cell_type": "code",
   "execution_count": null,
   "metadata": {
    "collapsed": false
   },
   "outputs": [],
   "source": []
  },
  {
   "cell_type": "code",
   "execution_count": null,
   "metadata": {
    "collapsed": true
   },
   "outputs": [],
   "source": []
  },
  {
   "cell_type": "code",
   "execution_count": null,
   "metadata": {
    "collapsed": true
   },
   "outputs": [],
   "source": []
  }
 ],
 "metadata": {
  "kernelspec": {
   "display_name": "Python 2",
   "language": "python",
   "name": "python2"
  },
  "language_info": {
   "codemirror_mode": {
    "name": "ipython",
    "version": 2
   },
   "file_extension": ".py",
   "mimetype": "text/x-python",
   "name": "python",
   "nbconvert_exporter": "python",
   "pygments_lexer": "ipython2",
   "version": "2.7.11"
  }
 },
 "nbformat": 4,
 "nbformat_minor": 0
}
