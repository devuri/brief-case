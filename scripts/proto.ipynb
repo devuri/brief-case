{
 "cells": [
  {
   "cell_type": "code",
   "execution_count": 24,
   "metadata": {
    "collapsed": true
   },
   "outputs": [],
   "source": [
    "import pandas as pd\n",
    "from bs4 import BeautifulSoup"
   ]
  },
  {
   "cell_type": "code",
   "execution_count": 42,
   "metadata": {
    "collapsed": false
   },
   "outputs": [],
   "source": [
    "def findlaw_summaries(year):\n",
    "    return pd.read_csv('data/' + str(year) + '_findlaw_summaries.csv', delimiter='|', error_bad_lines=False, header=0)"
   ]
  },
  {
   "cell_type": "code",
   "execution_count": null,
   "metadata": {
    "collapsed": true
   },
   "outputs": [],
   "source": []
  },
  {
   "cell_type": "code",
   "execution_count": null,
   "metadata": {
    "collapsed": true
   },
   "outputs": [],
   "source": []
  },
  {
   "cell_type": "code",
   "execution_count": 43,
   "metadata": {
    "collapsed": false
   },
   "outputs": [],
   "source": [
    "def justia_cases(year):\n",
    "    return pd.read_csv('data/' + str(year) + '_justia.csv', delimiter='|', error_bad_lines=False, header=0)"
   ]
  },
  {
   "cell_type": "code",
   "execution_count": 17,
   "metadata": {
    "collapsed": false
   },
   "outputs": [],
   "source": [
    "df_justia = justia_cases(1970)"
   ]
  },
  {
   "cell_type": "code",
   "execution_count": 18,
   "metadata": {
    "collapsed": false
   },
   "outputs": [
    {
     "data": {
      "text/html": [
       "<div>\n",
       "<table border=\"1\" class=\"dataframe\">\n",
       "  <thead>\n",
       "    <tr style=\"text-align: right;\">\n",
       "      <th></th>\n",
       "      <th>docket_nums</th>\n",
       "      <th>citations</th>\n",
       "      <th>opinions</th>\n",
       "      <th>syllabuses</th>\n",
       "      <th>summaries</th>\n",
       "    </tr>\n",
       "  </thead>\n",
       "  <tbody>\n",
       "    <tr>\n",
       "      <th>0</th>\n",
       "      <td>NaN</td>\n",
       "      <td>NaN</td>\n",
       "      <td>Oregon v. Mitchell\\nNo. 43, Orig.\\nArgued Octo...</td>\n",
       "      <td>Oregon v. Mitchell\\nNo. 43, Orig.\\nArgued Octo...</td>\n",
       "      <td>NaN</td>\n",
       "    </tr>\n",
       "    <tr>\n",
       "      <th>1</th>\n",
       "      <td>NaN</td>\n",
       "      <td>400 u.s. 968</td>\n",
       "      <td>400 U.S. 968 \\n Named Individual Members of t...</td>\n",
       "      <td>400 U.S. 968 \\n Named Individual Members of t...</td>\n",
       "      <td>NaN</td>\n",
       "    </tr>\n",
       "    <tr>\n",
       "      <th>2</th>\n",
       "      <td>NaN</td>\n",
       "      <td>400 u.s. 982</td>\n",
       "      <td>400 U.S. 982 \\n Edna WEEDv. Owen BILBREY et a...</td>\n",
       "      <td>400 U.S. 982 \\n Edna WEEDv. Owen BILBREY et a...</td>\n",
       "      <td>NaN</td>\n",
       "    </tr>\n",
       "    <tr>\n",
       "      <th>3</th>\n",
       "      <td>NaN</td>\n",
       "      <td>400 u.s. 74</td>\n",
       "      <td>Dutton v. Evans\\nNo. 10\\nArgued October 15, 19...</td>\n",
       "      <td>Dutton v. Evans\\nNo. 10\\nArgued October 15, 19...</td>\n",
       "      <td>NaN</td>\n",
       "    </tr>\n",
       "    <tr>\n",
       "      <th>4</th>\n",
       "      <td>NaN</td>\n",
       "      <td>400 u.s. 48</td>\n",
       "      <td>Hickel v. Oil Shale Corp.\\nNo. 25\\nArgued Octo...</td>\n",
       "      <td>Hickel v. Oil Shale Corp.\\nNo. 25\\nArgued Octo...</td>\n",
       "      <td>NaN</td>\n",
       "    </tr>\n",
       "  </tbody>\n",
       "</table>\n",
       "</div>"
      ],
      "text/plain": [
       "   docket_nums     citations  \\\n",
       "0          NaN           NaN   \n",
       "1          NaN  400 u.s. 968   \n",
       "2          NaN  400 u.s. 982   \n",
       "3          NaN   400 u.s. 74   \n",
       "4          NaN   400 u.s. 48   \n",
       "\n",
       "                                            opinions  \\\n",
       "0  Oregon v. Mitchell\\nNo. 43, Orig.\\nArgued Octo...   \n",
       "1   400 U.S. 968 \\n Named Individual Members of t...   \n",
       "2   400 U.S. 982 \\n Edna WEEDv. Owen BILBREY et a...   \n",
       "3  Dutton v. Evans\\nNo. 10\\nArgued October 15, 19...   \n",
       "4  Hickel v. Oil Shale Corp.\\nNo. 25\\nArgued Octo...   \n",
       "\n",
       "                                          syllabuses  summaries  \n",
       "0  Oregon v. Mitchell\\nNo. 43, Orig.\\nArgued Octo...        NaN  \n",
       "1   400 U.S. 968 \\n Named Individual Members of t...        NaN  \n",
       "2   400 U.S. 982 \\n Edna WEEDv. Owen BILBREY et a...        NaN  \n",
       "3  Dutton v. Evans\\nNo. 10\\nArgued October 15, 19...        NaN  \n",
       "4  Hickel v. Oil Shale Corp.\\nNo. 25\\nArgued Octo...        NaN  "
      ]
     },
     "execution_count": 18,
     "metadata": {},
     "output_type": "execute_result"
    }
   ],
   "source": [
    "df_justia.head()"
   ]
  },
  {
   "cell_type": "code",
   "execution_count": 18,
   "metadata": {
    "collapsed": false
   },
   "outputs": [],
   "source": [
    "justia_1950 = pd.read_csv('data/1950_justia_html_dump.csv', delimiter='|', header=None, error_bad_lines=False)"
   ]
  },
  {
   "cell_type": "code",
   "execution_count": 21,
   "metadata": {
    "collapsed": false
   },
   "outputs": [],
   "source": [
    "justia_1958 = pd.read_csv('data/1958_justia_html_dump.csv', delimiter='|', header=None, error_bad_lines=False)"
   ]
  },
  {
   "cell_type": "code",
   "execution_count": 31,
   "metadata": {
    "collapsed": false
   },
   "outputs": [],
   "source": [
    "soup = BeautifulSoup(justia_1958.ix[0, :].values[0], 'lxml')"
   ]
  },
  {
   "cell_type": "code",
   "execution_count": 38,
   "metadata": {
    "collapsed": false
   },
   "outputs": [],
   "source": [
    "links = soup.findAll('a')"
   ]
  },
  {
   "cell_type": "code",
   "execution_count": 39,
   "metadata": {
    "collapsed": false
   },
   "outputs": [
    {
     "data": {
      "text/plain": [
       "<a class=\"logo\" href=\"/\" title=\"Justia\">\\n<img alt=\"Justia\" onerror=\"this.onerror=null; this.src='//justatic.com/v/20151127a/shared/images/logos/justia.png'\" src=\"//justatic.com/v/20151127a/shared/images/logos/justia.svg\"/>\\n<img alt=\"Case Law\" class=\"sub-domain\" onerror=\"this.onerror=null; this.src='//justatic.com/v/20151127a/shared/images/logos/justia-supreme.png'\" src=\"//justatic.com/v/20151127a/shared/images/logos/justia-supreme.svg\"/>\\n</a>"
      ]
     },
     "execution_count": 39,
     "metadata": {},
     "output_type": "execute_result"
    }
   ],
   "source": [
    "links[0]"
   ]
  },
  {
   "cell_type": "markdown",
   "metadata": {},
   "source": [
    "## Baseline Model with Gensim Summarization"
   ]
  },
  {
   "cell_type": "code",
   "execution_count": 64,
   "metadata": {
    "collapsed": true
   },
   "outputs": [],
   "source": [
    "import logging\n",
    "logging.basicConfig(format='%(asctime)s : %(levelname)s : %(message)s', level=logging.INFO)\n",
    "\n",
    "from gensim.summarization import summarize, keywords"
   ]
  },
  {
   "cell_type": "code",
   "execution_count": 44,
   "metadata": {
    "collapsed": false
   },
   "outputs": [],
   "source": [
    "df_justia = justia_cases(1970)"
   ]
  },
  {
   "cell_type": "code",
   "execution_count": 57,
   "metadata": {
    "collapsed": false
   },
   "outputs": [],
   "source": [
    "first = df_justia.ix[0,:]"
   ]
  },
  {
   "cell_type": "code",
   "execution_count": 72,
   "metadata": {
    "collapsed": false
   },
   "outputs": [
    {
     "name": "stdout",
     "output_type": "stream",
     "text": [
      "1. The authority of Congress to fix at 18 the minimum age for the civil right of voting in national elections derives from the Equal Protection Clause of the Fourteenth Amendment and the power to \"enforce\" granted by  5 of that Amendment.\n",
      "3. The bar against a State's denying the right to vote in any federal, state, or local election because of a literacy test is sustainable as appropriate legislation to enforce the Equal Protection Clause, Congress having concluded that such tests have been used to discriminate against the voting rights of minority groups and that the tests are not necessary to ensure that voters be well informed.\n"
     ]
    }
   ],
   "source": [
    "print summarize(first['opinions'], ratio=0.05) #gensim's summarizer summary"
   ]
  },
  {
   "cell_type": "code",
   "execution_count": 59,
   "metadata": {
    "collapsed": false
   },
   "outputs": [
    {
     "name": "stdout",
     "output_type": "stream",
     "text": [
      "Oregon v. Mitchell\n",
      "No. 43, Orig.\n",
      "Argued October 19, 1970\n",
      "Decided December 21, 1970*\n",
      "400 U.S. 112\n",
      "\n",
      "Syllabus \n",
      "These original actions involve the constitutionality of three provisions of the Voting Rights Act Amendments of 1970 which (1) lower the minimum age of voters in both state and federal elections from 21 to 18, (2) bar the use of literacy tests (and similar voting eligibility requirements) for a five-year period in state and federal elections in any area where such tests are not already proscribed by the Voting Rights Act of 1965, and (3) forbid States from disqualifying voters in presidential and vice-presidential elections for failure to meet state residency requirements and provide uniform national rules for absentee voting in such elections.\n",
      "Held:  (1) The 18-year-old minimum-age requirement of the Voting Rights Act Amendments is valid for national elections.  (2) That requirement is not valid for state and local elections.  (3) The literacy test provision is valid.  (4) The residency and absentee balloting provisions are valid.  Pp.  400 U. S. 117-296.\n",
      "Relief granted in part and denied in part.\n",
      "MR. JUSTICE BLACK concluded that:\n",
      "1. Congress has the authority to permit 18-year-old citizens to vote in national elections, under Art. I,  4, Art. II,  1, and the Necessary and Proper Clause, of the Constitution, since those provisions fully empower Congress to make or alter regulations in national elections, to supervise such elections, and to set the qualifications for voters therein.  Pp.  400 U. S. 117,  400 U. S. 119-124.\n",
      "2. But under Art I,  2, the States have the power to set qualifications to vote in state and local elections, and the whole Constitution reserves that power to the States except as it has been curtailed by specific constitutional amendments.  No amendment (including the Equal Protection Clause of the Fourteenth Amendment and the other Civil War Amendments) authorizes Congress' attempt to lower the voting age in state and local elections.  Pp.  400 U. S. 118,  400 U. S. 124-131. \n",
      "Page 400 U. S. 113\n",
      "\n",
      "3. The literacy test ban is constitutional under the Enforcement Clauses of the Fourteenth and Fifteenth Amendments, in view of the evidence of racial discrimination that Congress found in various parts of the Nation:  racial discrimination resulting from literacy tests, the educational inequality stemming from the \"separate but equal\" rule, and other racially discriminatory practices.  Pp.  400 U. S. 118,  400 U. S. 131-134.\n",
      "4. The provisions forbidding States from disqualifying voters in national elections for presidential and vice-presidential electors because they have not met state residency requirements and establishing absentee balloting rules are valid under Congress' broad powers to regulate federal elections and maintain a national government.*  Pp.  400 U. S. 118,  400 U. S. 134.\n",
      "MR. JUSTICE DOUGLAS concluded that:*\n",
      "1. The authority of Congress to fix at 18 the minimum age for the civil right of voting in national elections derives from the Equal Protection Clause of the Fourteenth Amendment and the power to \"enforce\" granted by  5 of that Amendment.  Congress had an adequate basis for concluding that 18-year-olds are mature enough to vote and that to deprive them of the franchise would be a denial of equal protection.  Pp.  400 U. S. 135-144.\n",
      "3. The bar against a State's denying the right to vote in any federal, state, or local election because of a literacy test is sustainable as appropriate legislation to enforce the Equal Protection Clause, Congress having concluded that such tests have been used to discriminate against the voting rights of minority groups and that the tests are not necessary to ensure that voters be well informed.  Pp.  400 U. S. 144-147.\n",
      "4. The right to vote in national elections is a privilege and immunity of national citizenship and the congressional judgment to ban durational residency requirements in presidential and vice-presidential elections is a manifestly permissible means of enforcing that privilege and immunity under  5 of the Fourteenth Amendment.  Pp.  400 U. S. 147-150.\n",
      "MR. JUSTICE HARLAN concluded that:*\n",
      "2. The Fourteenth Amendment was not intended to restrict the authority of the States to allocate their political power as they see \n",
      "Page 400 U. S. 114\n",
      " fit and neither that Amendment nor any other provision of the Constitution authorizes Congress to set voter qualifications in state or local elections.  Pp.  400 U. S. 154-213.\n",
      "3. The literacy requirement can be deemed an appropriate means of enforcing the Fifteenth Amendment since Congress could have determined that racial prejudice is prevalent throughout the Nation and that literacy tests unduly lend themselves to discriminatory application.  Pp.  400 U. S. 216-217.\n",
      "MR. JUSTICE BRENNAN, MR. JUSTICE WHITE, and MR. JUSTICE MARSHALL concluded that:*\n",
      "1. Congress has the power to forbid the disenfranchisement in national elections of persons over the age of 18 because of their age, in order to enforce the Equal Protection Clause of the Fourteenth Amendment.  There was ample evidence to support Congress' conclusion that the exclusion of citizens 18 to 21 years of age from the franchise is unnecessary to promote any legitimate interest the States may have in assuring intelligent and responsible voting.  Pp.  400 U. S. 239-281.\n",
      "3. The congressional determination that a nationwide ban on literacy tests was necessary to prevent racial discrimination in voting is amply supported by the legislative record, and the proscription of literacy tests is well within the power of Congress granted by  2 of the Fifteenth Amendment.  Pp.  400 U. S. 231-236.\n",
      "4. There is adequate constitutional basis for the residency provisions of the Act in  5 of the Fourteenth Amendment, as there is ample justification for the congressional findings that durational residence requirements abridge the right of free interstate migration and that such requirements are not reasonably related to any compelling state interests.  Pp.  400 U. S. 236-239.\n",
      "MR. JUSTICE STEWART, joined by THE CHIEF JUSTICE and MR. JUSTICE BLACKMUN, concluded that:*\n",
      "2. Congress has no power to confer the right to vote in state or local elections on citizens from the ages of 18 to 21, since under the Constitution only the States have the power to set voting qualifications.  Pp.  400 U. S. 293-296.\n",
      "3. The literacy test ban is constitutional under the Enforcement Clause of the Fifteenth Amendment.  Pp.  400 U. S. 282-284.\n",
      "4. The residency provisions of the Act are constitutional because Congress, while it does not have general authority to establish qualifications for voting in congressional or presidential elections, \n",
      "Page 400 U. S. 115\n",
      " does have the power under the Necessary and Proper Clause to protect the privileges of United States citizenship, including the freedom to travel and to change one's residence.  Pp.  400 U. S. 285-292.\n",
      "BLACK, J., delivered an opinion announcing the judgments of the Court and expressing his own view of the case.  DOUGLAS, J., filed a separate opinion, post, p.  400 U. S. 135.  HARLAN, J., filed an opinion concurring in part and dissenting in part, post, p.  400 U. S. 152.  BRENNAN, WHITE, and MARSHALL, JJ., filed an opinion dissenting from the judgments in part and concurring in the judgments in part, post, p.  400 U. S. 229.  STEWART, J., filed an opinion concurring in part and dissenting in part, in which BURGER., C.J., and BLACKMUN, J., joined, post, p.  400 U. S. 281. \n",
      "Page 400 U. S. 117\n",
      "\n"
     ]
    }
   ],
   "source": [
    "print first['syllabuses'] #justia's syllabus"
   ]
  },
  {
   "cell_type": "code",
   "execution_count": 61,
   "metadata": {
    "collapsed": false
   },
   "outputs": [
    {
     "data": {
      "text/plain": [
       "'1. The authority of Congress to fix at 18 the minimum age for the civil right of voting in national elections derives from the Equal Protection Clause of the Fourteenth Amendment and the power to \"enforce\" granted by  5 of that Amendment.\\n3. The bar against a State\\'s denying the right to vote in any federal, state, or local election because of a literacy test is sustainable as appropriate legislation to enforce the Equal Protection Clause, Congress having concluded that such tests have been used to discriminate against the voting rights of minority groups and that the tests are not necessary to ensure that voters be well informed.'"
      ]
     },
     "execution_count": 61,
     "metadata": {},
     "output_type": "execute_result"
    }
   ],
   "source": [
    "summarize(first['opinions'], word_count=100) # gensim's 100 word count example"
   ]
  },
  {
   "cell_type": "code",
   "execution_count": 62,
   "metadata": {
    "collapsed": false
   },
   "outputs": [
    {
     "data": {
      "text/plain": [
       "'These original actions involve the constitutionality of three provisions of the Voting Rights Act Amendments of 1970 which (1) lower the minimum age of voters in both state and federal elections from 21 to 18, (2) bar the use of literacy tests (and similar voting eligibility requirements) for a five-year period in state and federal elections in any area where such tests are not already proscribed by the Voting Rights Act of 1965, and (3) forbid States from disqualifying voters in presidential and vice-presidential elections for failure to meet state residency requirements and provide uniform national rules for absentee voting in such elections.\\nNo amendment (including the Equal Protection Clause of the Fourteenth Amendment and the other Civil War Amendments) authorizes Congress\\' attempt to lower the voting age in state and local elections.\\n3. The literacy test ban is constitutional under the Enforcement Clauses of the Fourteenth and Fifteenth Amendments, in view of the evidence of racial discrimination that Congress found in various parts of the Nation:  racial discrimination resulting from literacy tests, the educational inequality stemming from the \"separate but equal\" rule, and other racially discriminatory practices.\\n1. The authority of Congress to fix at 18 the minimum age for the civil right of voting in national elections derives from the Equal Protection Clause of the Fourteenth Amendment and the power to \"enforce\" granted by  5 of that Amendment.\\n3. The bar against a State\\'s denying the right to vote in any federal, state, or local election because of a literacy test is sustainable as appropriate legislation to enforce the Equal Protection Clause, Congress having concluded that such tests have been used to discriminate against the voting rights of minority groups and that the tests are not necessary to ensure that voters be well informed.'"
      ]
     },
     "execution_count": 62,
     "metadata": {},
     "output_type": "execute_result"
    }
   ],
   "source": [
    "summarize(first['opinions'], ratio=0.1) # gensim's summary as a percentage of the original text"
   ]
  },
  {
   "cell_type": "code",
   "execution_count": 70,
   "metadata": {
    "collapsed": false
   },
   "outputs": [
    {
     "name": "stdout",
     "output_type": "stream",
     "text": [
      "state\n",
      "states\n",
      "congress\n",
      "justice\n",
      "elections\n",
      "election\n",
      "amendments\n",
      "amendment\n",
      "voting\n",
      "vote\n",
      "opinion\n",
      "national\n",
      "nation\n",
      "racial\n",
      "racially\n",
      "constitution\n",
      "constitutional\n"
     ]
    }
   ],
   "source": [
    "print keywords(first['opinions'], words=10) # gensim's keywords example with top 10 words"
   ]
  },
  {
   "cell_type": "markdown",
   "metadata": {},
   "source": []
  },
  {
   "cell_type": "code",
   "execution_count": null,
   "metadata": {
    "collapsed": true
   },
   "outputs": [],
   "source": []
  }
 ],
 "metadata": {
  "kernelspec": {
   "display_name": "Python 2",
   "language": "python",
   "name": "python2"
  },
  "language_info": {
   "codemirror_mode": {
    "name": "ipython",
    "version": 2
   },
   "file_extension": ".py",
   "mimetype": "text/x-python",
   "name": "python",
   "nbconvert_exporter": "python",
   "pygments_lexer": "ipython2",
   "version": "2.7.11"
  }
 },
 "nbformat": 4,
 "nbformat_minor": 0
}
