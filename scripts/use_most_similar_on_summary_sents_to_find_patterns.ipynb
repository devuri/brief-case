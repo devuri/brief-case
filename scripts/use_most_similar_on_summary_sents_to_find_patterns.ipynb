{
 "cells": [
  {
   "cell_type": "markdown",
   "metadata": {},
   "source": [
    "## Use d2v most similar to classify important sentences."
   ]
  },
  {
   "cell_type": "code",
   "execution_count": 35,
   "metadata": {
    "collapsed": false
   },
   "outputs": [],
   "source": [
    "from __future__ import absolute_import\n",
    "import pandas as pd\n",
    "import numpy as np\n",
    "from gensim.models import Word2Vec, Doc2Vec \n",
    "from sklearn.cluster import KMeans\n",
    "from case_to_sent_vecs import case_to_sents, case_to_sentvecs, case_spreadsheet\n",
    "from gensim.summarization import summarize"
   ]
  },
  {
   "cell_type": "code",
   "execution_count": 2,
   "metadata": {
    "collapsed": false
   },
   "outputs": [],
   "source": [
    "justia = pd.read_csv('../data/2006_justia.csv', delimiter='|')"
   ]
  },
  {
   "cell_type": "code",
   "execution_count": 3,
   "metadata": {
    "collapsed": true
   },
   "outputs": [],
   "source": [
    "second_opinion = justia.ix[1]['opinion']"
   ]
  },
  {
   "cell_type": "code",
   "execution_count": 4,
   "metadata": {
    "collapsed": false
   },
   "outputs": [],
   "source": [
    "second_syllabus = justia.ix[1]['syllabus']"
   ]
  },
  {
   "cell_type": "code",
   "execution_count": 5,
   "metadata": {
    "collapsed": false
   },
   "outputs": [],
   "source": [
    "o_vecs = case_to_sentvecs(2, second_opinion)"
   ]
  },
  {
   "cell_type": "code",
   "execution_count": 6,
   "metadata": {
    "collapsed": true
   },
   "outputs": [],
   "source": [
    "s_vecs = case_to_sentvecs(10, second_syllabus)"
   ]
  },
  {
   "cell_type": "code",
   "execution_count": 7,
   "metadata": {
    "collapsed": false
   },
   "outputs": [
    {
     "data": {
      "text/plain": [
       "34"
      ]
     },
     "execution_count": 7,
     "metadata": {},
     "output_type": "execute_result"
    }
   ],
   "source": [
    "len(o_vecs)"
   ]
  },
  {
   "cell_type": "code",
   "execution_count": 8,
   "metadata": {
    "collapsed": false
   },
   "outputs": [
    {
     "data": {
      "text/plain": [
       "29"
      ]
     },
     "execution_count": 8,
     "metadata": {},
     "output_type": "execute_result"
    }
   ],
   "source": [
    "len(s_vecs)"
   ]
  },
  {
   "cell_type": "code",
   "execution_count": 9,
   "metadata": {
    "collapsed": true
   },
   "outputs": [],
   "source": [
    "both_vecs = o_vecs + s_vecs"
   ]
  },
  {
   "cell_type": "code",
   "execution_count": 10,
   "metadata": {
    "collapsed": false
   },
   "outputs": [
    {
     "data": {
      "text/plain": [
       "63"
      ]
     },
     "execution_count": 10,
     "metadata": {},
     "output_type": "execute_result"
    }
   ],
   "source": [
    "len(both_vecs)"
   ]
  },
  {
   "cell_type": "code",
   "execution_count": 20,
   "metadata": {
    "collapsed": false
   },
   "outputs": [],
   "source": [
    "# both_vecs"
   ]
  },
  {
   "cell_type": "code",
   "execution_count": 52,
   "metadata": {
    "collapsed": false
   },
   "outputs": [],
   "source": [
    "d2v = Doc2Vec(both_vecs, size=200, min_count=4, workers=4)"
   ]
  },
  {
   "cell_type": "code",
   "execution_count": 53,
   "metadata": {
    "collapsed": false
   },
   "outputs": [
    {
     "data": {
      "text/plain": [
       "63"
      ]
     },
     "execution_count": 53,
     "metadata": {},
     "output_type": "execute_result"
    }
   ],
   "source": [
    "len(d2v.docvecs)"
   ]
  },
  {
   "cell_type": "code",
   "execution_count": 21,
   "metadata": {
    "collapsed": false
   },
   "outputs": [],
   "source": [
    "# d2v.docvecs.doctags"
   ]
  },
  {
   "cell_type": "code",
   "execution_count": 64,
   "metadata": {
    "collapsed": false
   },
   "outputs": [],
   "source": [
    "# most_similar = d2v.docvecs.most_similar('CASE_2_SENT_9')"
   ]
  },
  {
   "cell_type": "code",
   "execution_count": 65,
   "metadata": {
    "collapsed": false
   },
   "outputs": [],
   "source": [
    "similar = []\n",
    "\n",
    "for key in d2v.docvecs.doctags:\n",
    "    if 'CASE_10' in key: \n",
    "        similar.append(next(sent for sent in d2v.docvecs.most_similar(key) \\\n",
    "                  if 'CASE_2' in sent[0]))\n",
    "        \n",
    "#             if 'CASE_2' in sent[0]: \n",
    "#                 return sent\n",
    "#     return None\n",
    "\n",
    "# next(i for i in xrange(100000) if i == 1000)\n",
    "        "
   ]
  },
  {
   "cell_type": "code",
   "execution_count": 66,
   "metadata": {
    "collapsed": false
   },
   "outputs": [
    {
     "data": {
      "text/plain": [
       "True"
      ]
     },
     "execution_count": 66,
     "metadata": {},
     "output_type": "execute_result"
    }
   ],
   "source": [
    "len(similar) == len(s_vecs)"
   ]
  },
  {
   "cell_type": "code",
   "execution_count": 57,
   "metadata": {
    "collapsed": false
   },
   "outputs": [],
   "source": [
    "sent_idx = [int(pair[0].split('_')[-1]) for pair in similar]"
   ]
  },
  {
   "cell_type": "code",
   "execution_count": 70,
   "metadata": {
    "collapsed": false
   },
   "outputs": [],
   "source": [
    "sorted_sent_idx = sorted(set(sent_idx))"
   ]
  },
  {
   "cell_type": "code",
   "execution_count": 71,
   "metadata": {
    "collapsed": false
   },
   "outputs": [],
   "source": [
    "opinion_sents = np.array(case_to_sents(second_opinion))"
   ]
  },
  {
   "cell_type": "code",
   "execution_count": 72,
   "metadata": {
    "collapsed": false
   },
   "outputs": [],
   "source": [
    "similar_sents = opinion_sents[sorted_sent_idx]"
   ]
  },
  {
   "cell_type": "code",
   "execution_count": 73,
   "metadata": {
    "collapsed": false
   },
   "outputs": [],
   "source": [
    "whole_similar = [' '.join(sent) for sent in similar_sents]"
   ]
  },
  {
   "cell_type": "code",
   "execution_count": 74,
   "metadata": {
    "collapsed": false
   },
   "outputs": [
    {
     "data": {
      "text/plain": [
       "21"
      ]
     },
     "execution_count": 74,
     "metadata": {},
     "output_type": "execute_result"
    }
   ],
   "source": [
    "len(whole_similar)"
   ]
  },
  {
   "cell_type": "code",
   "execution_count": 75,
   "metadata": {
    "collapsed": false
   },
   "outputs": [
    {
     "name": "stdout",
     "output_type": "stream",
     "text": [
      "No.\n",
      "05785.Argued October 11, 2006Decided December 11, 2006\n",
      "Held:The Ninth Circuit improperly concluded that the California Court of Appeals decision was contrary to or an unreasonable application of clearly established federal law as determined by this Court.\n",
      "Pp.\n",
      "(a)Because clearly established Federal law in 2254(d)(1) refers to the holdings, as opposed to the dicta, of this Courts decisions as of the time of the relevant state-court decision, Williams v. Taylor, 529 U. S. 362, 412, federal habeas relief may be granted here if the California Court of Appeals decision was contrary to or involved an unreasonable application of this Courts applicable holdings.\n",
      "Pp.\n",
      "In both cases, which dealt with government-sponsored practices, the Court noted that some practices are so inherently prejudicial that they must be justified by an essential state policy or interest.\n",
      "E.g., Williams, supra, at 505.\n",
      "45.\n",
      "(c)In contrast to state-sponsored courtroom practices, the effect on a defendants fair-trial rights of the spectator conduct to which Musladin objects is an open question in this Courts jurisprudence.\n",
      "The Court has never addressed a claim that such private-actor courtroom conduct was so inherently prejudicial that it deprived a defendant of a fair trial or applied the test for inherent prejudice in Williams and Flynn to spectators conduct.\n",
      "Indeed, part of that testasking whether the practices furthered an essential state interestsuggests that those cases apply only to state-sponsored practices.\n",
      "Reflecting the lack of guidance from this Court, lower courts have diverged widely in their treatment of defendants spectator-conduct claims.\n",
      "Given the lack of applicable holdings from this Court, it cannot be said that the state court unreasonably appli[ed]  clearly established Federal law.\n",
      "Pp.\n",
      "427 F.3d 653, vacated and remanded.\n",
      "Thomas, J., delivered the opinion of the Court, in which Roberts, C.J., and Scalia, Ginsburg, Breyer, and Alito, JJ., joined.\n",
      "Stevens, J., Kennedy, J., and Souter, J., filed opinions concurring in the judgment.\n",
      "Disclaimer: Official Supreme Court case law is only found in the print version of the United States Reports.\n",
      "We make no warranties or guarantees about the accuracy, completeness, or adequacy of the information contained on this site or information linked to from this site.\n",
      "\t\t\t\n"
     ]
    }
   ],
   "source": [
    "for sent in whole_similar:\n",
    "    print sent"
   ]
  },
  {
   "cell_type": "code",
   "execution_count": 38,
   "metadata": {
    "collapsed": false
   },
   "outputs": [
    {
     "data": {
      "text/plain": [
       "6"
      ]
     },
     "execution_count": 38,
     "metadata": {},
     "output_type": "execute_result"
    }
   ],
   "source": [
    "len(summarize(second_opinion).split('\\n'))"
   ]
  },
  {
   "cell_type": "code",
   "execution_count": 82,
   "metadata": {
    "collapsed": false
   },
   "outputs": [
    {
     "name": "stdout",
     "output_type": "stream",
     "text": [
      "The Federal District Court denied Musladins habeas petition, but the Ninth Circuit reversed and remanded, finding that the state courts decision was contrary to, or involved an unreasonable application of, clearly established Federal law, 28 U.\n",
      "\n",
      "\n",
      "Held:The Ninth Circuit improperly concluded that the California Court of Appeals decision was contrary to or an unreasonable application of clearly established federal law as determined by this Court.\n",
      "\n",
      "\n",
      "(b)This Court addressed the effect of courtroom practices on defendants fair-trial rights in Williams, in which the State compelled the defendant to stand trial in prison clothes, and Flynn, in which the State seated uniformed state troopers in the row of spectators seats immediately behind the defendant at trial.\n",
      "\n",
      "\n",
      "(c)In contrast to state-sponsored courtroom practices, the effect on a defendants fair-trial rights of the spectator conduct to which Musladin objects is an open question in this Courts jurisprudence.\n",
      "\n",
      "\n",
      "The Court has never addressed a claim that such private-actor courtroom conduct was so inherently prejudicial that it deprived a defendant of a fair trial or applied the test for inherent prejudice in Williams and Flynn to spectators conduct.\n",
      "\n",
      "\n",
      "Given the lack of applicable holdings from this Court, it cannot be said that the state court unreasonably appli[ed]  clearly established Federal law.\n",
      "\n",
      "\n"
     ]
    }
   ],
   "source": [
    "for sent in summarize(second_opinion,split=True):\n",
    "    print sent\n",
    "    print '\\n'\n",
    "    \n",
    "# 1: procedure\n",
    "# 2: holding\n",
    "# 3: issue\n",
    "# 4: analysis\n",
    "# 5: other\n",
    "# 6: analysis"
   ]
  },
  {
   "cell_type": "code",
   "execution_count": 42,
   "metadata": {
    "collapsed": false
   },
   "outputs": [
    {
     "name": "stdout",
     "output_type": "stream",
     "text": [
      "CAREY, WARDEN v. MUSLADIN\n",
      "certiorari to the united states court of appeals for the ninth circuit\n",
      "No. 05785.Argued October 11, 2006Decided December 11, 2006\n",
      "At respondent Musladins murder trial, members of the victims family sat in the front row of the spectators gallery wearing buttons displaying the victims image.  The trial court denied Musladins motion to order the family members not to wear the buttons.  The California Court of Appeal upheld Musladins conviction, stating that he had to show actual or inherent prejudice to succeed on the buttons claim; citing Holbrook v. Flynn, 475 U. S. 560, as providing the test for inherent prejudice; and ruling that he had not satisfied that test.  The Federal District Court denied Musladins habeas petition, but the Ninth Circuit reversed and remanded, finding that the state courts decision was contrary to, or involved an unreasonable application of, clearly established Federal law, 28 U. S.C. 2254(d)(1), as determined by this Court in Estelle v. Williams, 425 U. S. 501, and Flynn, supra.\n",
      "Held:The Ninth Circuit improperly concluded that the California Court of Appeals decision was contrary to or an unreasonable application of clearly established federal law as determined by this Court.  Pp. 37.\n",
      "(a)Because clearly established Federal law in 2254(d)(1) refers to the holdings, as opposed to the dicta, of this Courts decisions as of the time of the relevant state-court decision, Williams v. Taylor, 529 U. S. 362, 412, federal habeas relief may be granted here if the California Court of Appeals decision was contrary to or involved an unreasonable application of this Courts applicable holdings.  Pp. 34.\n",
      "\n",
      "\n",
      "(b)This Court addressed the effect of courtroom practices on defendants fair-trial rights in Williams, in which the State compelled the defendant to stand trial in prison clothes, and Flynn, in which the State seated uniformed state troopers in the row of spectators seats immediately behind the defendant at trial.  In both cases, which dealt with government-sponsored practices, the Court noted that some practices are so inherently prejudicial that they must be justified by an essential state policy or interest.   E.g., Williams, supra, at 505.  Pp. 45.\n",
      "\n",
      "\n",
      "(c)In contrast to state-sponsored courtroom practices, the effect on a defendants fair-trial rights of the spectator conduct to which Musladin objects is an open question in this Courts jurisprudence.  The Court has never addressed a claim that such private-actor courtroom conduct was so inherently prejudicial that it deprived a defendant of a fair trial or applied the test for inherent prejudice in Williams and Flynn to spectators conduct.  Indeed, part of that testasking whether the practices furthered an essential state interestsuggests that those cases apply only to state-sponsored practices.  Reflecting the lack of guidance from this Court, lower courts have diverged widely in their treatment of defendants spectator-conduct claims.  Given the lack of applicable holdings from this Court, it cannot be said that the state court unreasonably appli[ed]  clearly established Federal law.  Pp. 57.\n",
      "427 F.3d 653, vacated and remanded.\n",
      "Thomas, J., delivered the opinion of the Court, in which Roberts, C.J., and Scalia, Ginsburg, Breyer, and Alito, JJ., joined.  Stevens, J., Kennedy, J., and Souter, J., filed opinions concurring in the judgment.\n"
     ]
    }
   ],
   "source": [
    "print second_syllabus"
   ]
  },
  {
   "cell_type": "code",
   "execution_count": null,
   "metadata": {
    "collapsed": true
   },
   "outputs": [],
   "source": []
  },
  {
   "cell_type": "markdown",
   "metadata": {},
   "source": [
    "## Notes\n",
    "\n",
    "+ Alchemy API summarize(),  what it's doing: Is it also TextRank? If not\n",
    "+ TextBlob: Is it better than NLTK?\n",
    "    - \n",
    "+ Fintech companies are already summarizing financial reports?\n",
    "\n",
    "+ LDA: Data Graphlab implemented this\n",
    "\n",
    "+ ElasticSearch: Information Retrieval"
   ]
  },
  {
   "cell_type": "code",
   "execution_count": null,
   "metadata": {
    "collapsed": true
   },
   "outputs": [],
   "source": []
  }
 ],
 "metadata": {
  "kernelspec": {
   "display_name": "Python 2",
   "language": "python",
   "name": "python2"
  },
  "language_info": {
   "codemirror_mode": {
    "name": "ipython",
    "version": 2
   },
   "file_extension": ".py",
   "mimetype": "text/x-python",
   "name": "python",
   "nbconvert_exporter": "python",
   "pygments_lexer": "ipython2",
   "version": "2.7.11"
  }
 },
 "nbformat": 4,
 "nbformat_minor": 0
}
